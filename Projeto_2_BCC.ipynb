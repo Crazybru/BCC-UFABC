{
  "nbformat": 4,
  "nbformat_minor": 0,
  "metadata": {
    "colab": {
      "private_outputs": true,
      "provenance": []
    },
    "kernelspec": {
      "name": "python3",
      "display_name": "Python 3"
    }
  },
  "cells": [
    {
      "cell_type": "markdown",
      "metadata": {
        "id": "SjQaE5isfITn"
      },
      "source": [
        "# Projeto 2\n",
        "\n",
        "## O que é o Projeto 2?\n",
        "\n",
        "Neste projeto, você deverá programar um jogador automático para o jogo que está aqui.\n",
        "\n",
        "Pode ser feito individualmente ou em dupla.\n",
        "\n",
        "# Observação \n",
        "\n",
        "Este código é bastante longo e é possível que eu tenha que enviar algumas correções. Posso fazer vídeos para esclarecer algumas dúvidas também.\n",
        "\n",
        "## Como serei avaliado?\n",
        "\n",
        "Você deverá implementar uma entre as seguintes opções.\n",
        "\n",
        "- Jogador para duelo: um jogador contra um jogador\n",
        "- Jogador para arena: vários jogadores\n",
        "\n",
        "O seu conceito para este projeto dependerá dos seguintes fatores:\n",
        "\n",
        "1) A complexidade e performance da estratégia que você implementou. Tente usar condicionais e laços.\n",
        "\n",
        "2) O quão bem foram implementadas a sua estratégia.\n",
        "\n",
        "3) O quão bem você explicou sua estratégia e código.\n",
        "\n",
        "## O que devo entregar?\n",
        "\n",
        "1) Este notebook ipynb preenchido\n",
        "\n",
        "2) Um link para vídeo de no máximo 5 minutos (que deve ser incluso aqui) onde você explica a sua estratégia e o seu código. Se for dupla, cada membro deve fazer seu próprio vídeo.\n",
        "\n",
        "> Sugiro que você use o Loom (https://www.loom.com) para gravar seu vídeo explicando o notebook. É essa a ferramenta que uso para gravar meus vídeos. "
      ]
    },
    {
      "cell_type": "markdown",
      "metadata": {
        "id": "JSTSTmRhzT-O"
      },
      "source": []
    },
    {
      "cell_type": "markdown",
      "metadata": {
        "id": "lO-UPI3UgKf3"
      },
      "source": [
        "# Nome e RA\n",
        "\n",
        "## Nome: Brunno Toscano Messias\n",
        "## RA: 11202020125\n",
        "\n",
        "## Nome: Marco Antonio Lopes Rodrigues\n",
        "## RA: 11202020422 \n",
        "\n",
        "# Vídeo\n",
        "## Link Marco: https://www.loom.com/share/e29ce582f65945948ebe0e54a4124536\n",
        "## Link Brunno: https://www.loom.com/share/4943fb036fd24dd984fad35bb3e94e5f"
      ]
    },
    {
      "cell_type": "code",
      "metadata": {
        "id": "D3keusfu4GON"
      },
      "source": [
        "import random as rd\n",
        "import time\n",
        "import numpy as np\n",
        "import matplotlib.pyplot as plt\n",
        "import copy\n",
        "from matplotlib import cm\n",
        "%matplotlib inline\n",
        "\n",
        "!pip install celluloid\n",
        "from celluloid import Camera"
      ],
      "execution_count": null,
      "outputs": []
    },
    {
      "cell_type": "markdown",
      "metadata": {
        "id": "IpWv2-n6hlRX"
      },
      "source": [
        "# Características do jogo\n",
        "\n",
        "Aqui apresentamos algumas características do jogo. Mas, para detalhes, você pode ter que descobrir lendo o código.\n",
        "\n",
        "* **Multiplayer:** Vários jogadores podem jogar simultaneamente. \n",
        "* **Baseado em turnos:** Em cada turno, cada jogador recebe o status dos outros jogadores e deve decidir qual ação tomar.\n",
        "\n",
        "* **Ocorre em um mapa 2D:** Os jogadores se movimentam por um mapa."
      ]
    },
    {
      "cell_type": "code",
      "metadata": {
        "id": "douiSj9RhgK7"
      },
      "source": [
        "# Configuracoes\n",
        "max_turnos = 20 # quantidade maxima de turnos a serem realizados\n",
        "raio = 20 # raio padrao de ataque\n",
        "step = 10 # tamanho de um passo de movimento\n",
        "mapa_x = 100 # tamanho do mapa na coordenada x \n",
        "mapa_y = 100 # tamanho do mapa na coordenada y\n",
        "dano_base = 10 # base para dano de um ataque\n",
        "vida_base = 100 # quantidade de vida padrão"
      ],
      "execution_count": null,
      "outputs": []
    },
    {
      "cell_type": "markdown",
      "metadata": {
        "id": "QABUcyx8i5jQ"
      },
      "source": [
        "Você deve programar o status inicial de seu jogador.\n",
        "Isso deve ser feito através de uma função.\n",
        "\n",
        "Aqui estão os parâmetros que você deve definir:\n",
        "\n",
        "## Tipo\n",
        "\n",
        "O seu jogador terá um tipo de elemento. Os possíveis elementos são:\n",
        "\"FOGO\", \"AGUA\", \"PLANTA\", \"LUZ\", \"ESCURIDAO\", \"NORMAL\"\n",
        "\n",
        "* Cada jogador pode fazer um ataque especial que corresponde a seu elemento ou um ataque normal.\n",
        "\n",
        "* Ataques de FOGO são fortes contra PLANTA e fracos contra AGUA.\n",
        "\n",
        "* Ataques de AGUA são fortes contra FOGO e fracos contra PLANTA.\n",
        "\n",
        "* Ataques de PLANTA são fortes contra AGUA e fracos contra FOGO.\n",
        "\n",
        "* Ataques de LUZ são fortes contra ESCURIDAO.\n",
        "\n",
        "* Ataques de ESCURIDAO são fortes contra LUZ.\n",
        "\n",
        "* Ataques do tipo NORMAL não são nem fortes e nem fracos. Podem ser realizados por um jogador de qualquer tipo, Mas, se o jogador for do tipo NORMAL, o ataque é mais forte.\n",
        "\n",
        "O quão forte/fracos são os ataques podem ser vistos no código do jogo.\n",
        "\n",
        "\n",
        "## Distribuição de pontos\n",
        "Você deve distribuir **100** pontos inteiros não-negativos. A soma deve ser exatamente $100$. Caso contrário, seu jogo pode não rodar.\n",
        "\n",
        "Os pontos devem ser distribuídos dentre:\n",
        "* Vida\n",
        "* Ataque\n",
        "* Ataque especial\n",
        "* Defesa\n",
        "* Sorte\n",
        "\n",
        "Você mesmo deve checar como esses parâmetros são usados no jogo.\n",
        "\n",
        "# Posição \n",
        "Escolher uma posição `(x,y)` para seu jogador com a \n",
        "seguinte regra:\n",
        "\n",
        "``step <= x <= mapa_x - step``\n",
        "\n",
        "E\n",
        "\n",
        "``step <= y <= mapa_y - step``\n",
        "\n",
        "## O que a função deve retornar?\n",
        "\n",
        "Uma lista com os parâmetros na seguinte ordem:\n",
        "\n",
        "``[vida, ataque, ataque_especial, defesa, sorte, tipo, x, y]``\n",
        "\n",
        "Veja um exemplo de função para a configuração inicial:\n"
      ]
    },
    {
      "cell_type": "code",
      "metadata": {
        "id": "HNp2PF3yi5A3"
      },
      "source": [
        "def inicial_exemplo ():\n",
        "  vida = 20\n",
        "  ataque = 20\n",
        "  ataque_especial = 20\n",
        "  defesa = 20\n",
        "  sorte = 20\n",
        "  tipo = \"NORMAL\"\n",
        "  x = 50\n",
        "  y = 50\n",
        "  perfil = [vida, ataque, ataque_especial, defesa, sorte, tipo,x,y]\n",
        "  return perfil"
      ],
      "execution_count": null,
      "outputs": []
    },
    {
      "cell_type": "markdown",
      "metadata": {
        "id": "7ZLDCdX-nNy_"
      },
      "source": [
        "Você pode checar se a sua função é válida com a seguinte função:"
      ]
    },
    {
      "cell_type": "code",
      "metadata": {
        "id": "kWbXk3NRnSlO"
      },
      "source": [
        "def valida_inicial(func_inic):\n",
        "  [vida, ataque, ataque_especial, defesa, sorte, tipo,x,y] = func_inic()\n",
        "  valido = True\n",
        "  if vida <0 or ataque<0 or ataque_especial<0 or defesa<0 or sorte<0:\n",
        "    print(\"Inválido. Algum parâmetro é negativo.\")\n",
        "    valido = False\n",
        "  if vida+ataque+ataque_especial+defesa+sorte != 100:\n",
        "    print(\"Inválido. Soma de parâmetros não é 100.\")\n",
        "    valido = False\n",
        "  if tipo not in [\"FOGO\", \"AGUA\", \"PLANTA\", \"LUZ\", \"ESCURIDAO\", \"NORMAL\"]:\n",
        "    print(\"Inválido. Tipo inválido.\")\n",
        "    valido = False\n",
        "  if x<step or x>mapa_x-step or y<step or y>mapa_y-step:\n",
        "    print(\"Inválido. Posição inválida.\")\n",
        "    valido = False\n",
        "  return valido"
      ],
      "execution_count": null,
      "outputs": []
    },
    {
      "cell_type": "markdown",
      "metadata": {
        "id": "GF_3PvSznYZt"
      },
      "source": [
        "Para a minha função de exemplo, é assim que pode ser checada. "
      ]
    },
    {
      "cell_type": "code",
      "metadata": {
        "id": "Z4FTH4B9nrBD"
      },
      "source": [
        "valida_inicial(inicial_exemplo)"
      ],
      "execution_count": null,
      "outputs": []
    },
    {
      "cell_type": "markdown",
      "metadata": {
        "id": "3TZrH8_0pNPa"
      },
      "source": [
        "# Turno\n",
        "\n",
        "Em cada turno, você pode escolher um movimento da seguinte lista:"
      ]
    },
    {
      "cell_type": "markdown",
      "metadata": {
        "id": "NfY2fyTnpnhs"
      },
      "source": [
        "\"AT\": Ataque. Ataca todos os outros jogadores de acordo com a posição deles e seu raio de ataque (e um fator de sorte)\n",
        "\n",
        "\"AE\": Ataque Especial. Ataca com seu tipo todos os outros jogadores de acordo com a posição deles e seu raio de ataque (e um fator de sorte)\n",
        "\n",
        "\"DF_INC\": Aumenta o parâmetro de defesa\n",
        "\n",
        "\"SORTE_INC\": Aumenta o parâmetro de sorte\n",
        "\n",
        "\"N\": Move em direção ao Norte.\n",
        "\n",
        "\"S\" : Move em direção ao Sul.\n",
        "\n",
        "\"L\": Move em direção ao Leste.\n",
        "\n",
        "\"O\": Move em direção ao Oeste.\n",
        "\n",
        "\"NO\": Move em direção ao Noroeste.\n",
        "\n",
        "\"NL\": Move em direção ao Nordeste.\n",
        "\n",
        "\"SL\": Move em direção ao Sudeste.\n",
        "\n",
        "\"SO\": Move em direção ao Sudoeste.\n",
        "\n",
        "\"FOGO\": Muda seu tipo para FOGO.\n",
        "\n",
        "\"AGUA\": Muda seu tipo para AGUA.\n",
        "\n",
        "\"PLANTA\": Muda seu tipo para PLANTA.\n",
        "\n",
        "\"LUZ\": Muda seu tipo para LUZ.\n",
        "\n",
        "\"ESCURIDAO\": Muda seu tipo para ESCURIDAO.\n",
        "\n",
        "\"NORMAL\": Muda seu tipo para NORMAL."
      ]
    },
    {
      "cell_type": "markdown",
      "metadata": {
        "id": "0J2FtPs7qywz"
      },
      "source": [
        "O movimento decidido pelo turno deve ser programado em uma função. Veja dois exemplos:"
      ]
    },
    {
      "cell_type": "code",
      "metadata": {
        "id": "XXzN5ShEmNTM"
      },
      "source": [
        "moves = [\"AT\",\"AE\", \"DF_INC\", \"SORTE_INC\", \n",
        "         \"N\",\"S\",\"L\",\"O\",\"NO\",\"NL\",\"SL\",\"SO\",\n",
        "         \"FOGO\", \"AGUA\", \"PLANTA\", \"LUZ\", \"ESCURIDAO\", \"NORMAL\"]\n",
        "\n",
        "def turno_aleatorio(status, player): #escolhe um movimento qualquer\n",
        "  return rd.choice(moves)\n",
        "\n",
        "def turno_so_ataca(status, player):\n",
        "  escolhas = [\"AT\",\"AE\"]\n",
        "  return rd.choice(escolhas)"
      ],
      "execution_count": null,
      "outputs": []
    },
    {
      "cell_type": "markdown",
      "metadata": {
        "id": "oltbqT2TrEC6"
      },
      "source": [
        "Os exemplos acima são bem ingênuos, pois não dependem dos status de outros jogadores.\n",
        "\n",
        "O que são os parâmetros recebidos pelo turno?\n",
        "\n",
        "* player: é o **seu** identificador numérico\n",
        "\n",
        "* status: contém o status de cada jogador!\n",
        "\n",
        "Vamos ver o código do jogo para ver como os status dos jogadores são guardados.\n",
        "\n",
        "> Abaixo estão as partes em que você deve colocar seu código!"
      ]
    },
    {
      "cell_type": "markdown",
      "metadata": {
        "id": "_MYzijYGwNMT"
      },
      "source": [
        "# Sua estratégia para duelo\n",
        "\n",
        "Fizemos um jogador com um comportamento agressivo (como de um caçador ou assassino). \n",
        "\n",
        "A distribuição de pontos foi baseada nesse comportamento, com enfoque em ataque, e um pouco de sorte e defesa.\n",
        "\n",
        "1) O jogador irá checar o elemento do inimigo no começo de todo turno, se o elemento for diferente de \"NORMAL\", o jogador irá trocar para o elemento mais favorável (ex: jogador troca para AGUA se o inimigo estiver com o elemento FOGO).\n",
        "\n",
        "2) Se o inimigo estiver fora de seu raio de ataque, o persegue até que esteja numa posição em que o ataque acertará (não é necessário monitorar os limites do mapa já que o jogador para de perseguir quando entra numa distância de 20 unidades do inimigo)\n",
        "\n",
        "3) Quando está abaixo de 50% da vida, continua perseguindo o inimigo mas ocasionalmente aumenta a defesa ao invés de atacar.\n",
        "\n",
        "OBS: A posição inicial foi colocada longe de (50,50) para mostrar a capacidade de perseguição do jogador"
      ]
    },
    {
      "cell_type": "markdown",
      "metadata": {
        "id": "EVqKEmFidy4l"
      },
      "source": [
        "# Sua estratégia para arena\n",
        "Preencha aqui com a sua estratégia!"
      ]
    },
    {
      "cell_type": "markdown",
      "metadata": {
        "id": "iZuMmNIhnwwc"
      },
      "source": [
        "# Modifique o código abaixo para criar a sua função de configuração inicial abaixo:"
      ]
    },
    {
      "cell_type": "code",
      "metadata": {
        "id": "FoYSOidiniQE"
      },
      "source": [
        "def inicial():\n",
        "  vida = 0\n",
        "  ataque = 50\n",
        "  ataque_especial = 0\n",
        "  defesa = 25\n",
        "  sorte = 25\n",
        "  tipo = \"NORMAL\"\n",
        "  x = 10\n",
        "  y = 10\n",
        "  perfil = [vida, ataque, ataque_especial, defesa, sorte, tipo,x,y]\n",
        "  return perfil"
      ],
      "execution_count": null,
      "outputs": []
    },
    {
      "cell_type": "code",
      "metadata": {
        "id": "Iv7Ac3ATd-oH"
      },
      "source": [
        "def inicialArena():\n",
        "  vida = 20\n",
        "  ataque = 20\n",
        "  ataque_especial = 20\n",
        "  defesa = 20\n",
        "  sorte = 20\n",
        "  tipo = \"NORMAL\"\n",
        "  x = 50\n",
        "  y = 50\n",
        "  perfil = [vida, ataque, ataque_especial, defesa, sorte, tipo,x,y]\n",
        "  return perfil"
      ],
      "execution_count": null,
      "outputs": []
    },
    {
      "cell_type": "markdown",
      "metadata": {
        "id": "mi1bSfXln7Wn"
      },
      "source": [
        "# Rode o código abaixo para ver se ela é válida:"
      ]
    },
    {
      "cell_type": "code",
      "metadata": {
        "id": "b_bcv1HNn_rm"
      },
      "source": [
        "valida_inicial(inicial)"
      ],
      "execution_count": null,
      "outputs": []
    },
    {
      "cell_type": "code",
      "metadata": {
        "id": "-8raPOFheCn7"
      },
      "source": [
        "valida_inicial(inicialArena)"
      ],
      "execution_count": null,
      "outputs": []
    },
    {
      "cell_type": "markdown",
      "metadata": {
        "id": "1f4ikdqjwGEi"
      },
      "source": [
        "# Modifique o código abaixo para criar a sua função de turno:"
      ]
    },
    {
      "cell_type": "code",
      "metadata": {
        "id": "rIvchJ4FwFNz"
      },
      "source": [
        "def turno(status, jogador):\n",
        "  op = 1\n",
        "  if jogador == 1:\n",
        "    op = 0\n",
        "  \n",
        "  # Troca o elemento para um favorável:\n",
        "  while status[op][\"tipo\"] != \"NORMAL\":\n",
        "    if especial(status[jogador][\"tipo\"], status[op][\"tipo\"]) == True: # Quebra o laço caso o elemento atual seja favorável (para evitar um loop infinito de troca de elementos)\n",
        "      break\n",
        "    elif status[op][\"tipo\"] == \"FOGO\":\n",
        "      return \"AGUA\"\n",
        "    elif status[op][\"tipo\"] == \"AGUA\":\n",
        "      return \"PLANTA\"\n",
        "    elif status[op][\"tipo\"] == \"PLANTA\":\n",
        "      return \"FOGO\"\n",
        "    elif status[op][\"tipo\"] == \"LUZ\":\n",
        "      return \"ESCURIDAO\"\n",
        "    elif status[op][\"tipo\"] == \"ESCURIDAO\":\n",
        "      return \"LUZ\"\n",
        "  \n",
        "  # Ataca se estiver dentro do raio de ataque padrão e com 50% ou mais de vida (mesmo que o elemento do jogador seja NORMAL, o ataque especial causará a mesma quantidade de dano):\n",
        "  if prox(status, jogador, op, raio, mapa_x, mapa_y) == True and status[jogador][\"vida\"] >= 50:\n",
        "      return \"AE\"\n",
        "  \n",
        "  # Age conforme a parte da última condição que não foi cumprida:\n",
        "  else:\n",
        "    if prox(status, jogador, op, raio, mapa_x, mapa_y) == False: # Se estiver fora do raio de ataque, persegue o inimigo.\n",
        "      dir_x = \"\"\n",
        "      dir_y = \"\"\n",
        "      if status[op][\"y\"] > status[jogador][\"y\"]:\n",
        "        dir_y = \"N\"\n",
        "      elif status[op][\"y\"] < status[jogador][\"y\"]:\n",
        "        dir_y = \"S\"\n",
        "      if status[op][\"x\"] > status[jogador][\"x\"]:\n",
        "        dir_x = \"L\"\n",
        "      elif status[op][\"x\"] < status[jogador][\"x\"]:\n",
        "        dir_x = \"O\"\n",
        "      return dir_y+dir_x\n",
        "    else: # Se estiver dentro do raio, a condição não cumprida foi a de vida, então aumenta defesa ou ataca.\n",
        "        return rd.choice([\"AE\", \"DF_INC\"])"
      ],
      "execution_count": null,
      "outputs": []
    },
    {
      "cell_type": "code",
      "metadata": {
        "id": "oASovAW2eFh8"
      },
      "source": [
        "def turnoArena(status, jogador):\n",
        "  # Metapod\n",
        "  return \"AE\""
      ],
      "execution_count": null,
      "outputs": []
    },
    {
      "cell_type": "markdown",
      "metadata": {
        "id": "rtlwwwcStnoy"
      },
      "source": [
        "# Código do jogo\n",
        "\n",
        "Você não precisa ler e nem entender o código todo, mas procure ver como os parâmetros são usados para decidir sua estratégia."
      ]
    },
    {
      "cell_type": "code",
      "metadata": {
        "id": "cFKHMcbrtz31"
      },
      "source": [
        "# Calcula a nova posicao de um jogador\n",
        "# Parametros x,y: posicao atual\n",
        "# dir: direcao escolhida\n",
        "# Retorna (x_novo, y_novo) com a nova posicao\n",
        "def pos(x,y,dir):\n",
        "  if dir == \"N\":\n",
        "    x_novo = x\n",
        "    y_novo = y+step\n",
        "  elif dir == \"S\":\n",
        "    x_novo = x\n",
        "    y_novo = y-step\n",
        "  elif dir == \"L\":\n",
        "    x_novo = x+step\n",
        "    y_novo = y\n",
        "  elif dir == \"O\":\n",
        "    x_novo = x-step\n",
        "    y_novo = y\n",
        "  elif dir == \"NO\":\n",
        "    x_novo = x-step\n",
        "    y_novo = y+step\n",
        "  elif dir == \"NL\":\n",
        "    x_novo = x+step\n",
        "    y_novo = y+step\n",
        "  elif dir == \"SO\":\n",
        "    x_novo = x-step\n",
        "    y_novo = y-step\n",
        "  elif dir == \"SL\":\n",
        "    x_novo = x+step\n",
        "    y_novo = y-step\n",
        "\n",
        "  # verificando e ajustando para posicao válida\n",
        "  if y_novo < step:\n",
        "    y_novo = step\n",
        "  elif y_novo >= mapa_y-step:\n",
        "    y_novo = mapa_y-step\n",
        "  if x_novo < step:\n",
        "    x_novo = step\n",
        "  elif x_novo >= mapa_x-step:\n",
        "    x_novo = mapa_x-step\n",
        "    \n",
        "  return (x_novo,y_novo)"
      ],
      "execution_count": null,
      "outputs": []
    },
    {
      "cell_type": "markdown",
      "metadata": {
        "id": "RzRuuBzMvLh3"
      },
      "source": [
        "Exemplo de uso:"
      ]
    },
    {
      "cell_type": "code",
      "metadata": {
        "id": "Ztff6lMmvM5p"
      },
      "source": [
        "pos(30,50,\"N\")"
      ],
      "execution_count": null,
      "outputs": []
    },
    {
      "cell_type": "code",
      "metadata": {
        "id": "Dl_16BqFyM_w"
      },
      "source": [
        "# Retorna: True se tipo1 é forte contra o tipo2\n",
        "# False se o tipo1 é fraco contra o tipo2\n",
        "# 0 se não é nem fraco e nem forte\n",
        "def especial(tipo1, tipo2):\n",
        "  if tipo1==\"AGUA\" and tipo2==\"FOGO\":\n",
        "    return True\n",
        "  elif tipo1==\"FOGO\" and tipo2==\"PLANTA\":\n",
        "    return True\n",
        "  elif tipo1==\"PLANTA\" and tipo2==\"AGUA\":\n",
        "    return True\n",
        "  elif (tipo1==\"LUZ\" and tipo2==\"ESCURIDAO\") or (tipo1==\"ESCURIDAO\" and tipo2==\"LUZ\"):\n",
        "    return True\n",
        "  if tipo2==\"AGUA\" and tipo1==\"FOGO\":\n",
        "    return False\n",
        "  elif tipo2==\"FOGO\" and tipo1==\"PLANTA\":\n",
        "    return False\n",
        "  elif tipo2==\"PLANTA\" and tipo1==\"AGUA\":\n",
        "    return False\n",
        "  return 0"
      ],
      "execution_count": null,
      "outputs": []
    },
    {
      "cell_type": "markdown",
      "metadata": {
        "id": "ct7Ga9BRyZJU"
      },
      "source": [
        "Exemplo de uso:"
      ]
    },
    {
      "cell_type": "code",
      "metadata": {
        "id": "geYJKkFcyhvX"
      },
      "source": [
        "especial(\"AGUA\",\"FOGO\")"
      ],
      "execution_count": null,
      "outputs": []
    },
    {
      "cell_type": "code",
      "metadata": {
        "id": "o-zCFLD-vare"
      },
      "source": [
        "# Calcula o status inicial dada uma funcao inicial\n",
        "# Parâmetro: uma função inicial\n",
        "# Retorna: um dicionário com o status inicial do jogador\n",
        "def calcula_status_individual_inicial(funcao_inicial):\n",
        "  perfil = funcao_inicial()\n",
        "  vida = vida_base*(1+perfil[0]/100)\n",
        "  ataque = (1+perfil[1]/100)\n",
        "  ataque_especial = (1+perfil[2]/100)\n",
        "  defesa = (1+perfil[3]/100)\n",
        "  sorte = (1+perfil[4]/100)\n",
        "  status_individual = dict()\n",
        "  status_individual[\"vida\"] = int(vida)\n",
        "  status_individual[\"ataque\"] = ataque\n",
        "  status_individual[\"ataque_esp\"] = ataque_especial\n",
        "  status_individual[\"defesa\"] = defesa\n",
        "  status_individual[\"sorte\"] = sorte\n",
        "  status_individual[\"tipo\"] = perfil[5]\n",
        "  status_individual[\"x\"] = perfil[6]//step*step\n",
        "  status_individual[\"y\"] = perfil[7]//step*step\n",
        "  return status_individual"
      ],
      "execution_count": null,
      "outputs": []
    },
    {
      "cell_type": "markdown",
      "metadata": {
        "id": "SmIF_FGxv3FL"
      },
      "source": [
        "Exemplo de uso:"
      ]
    },
    {
      "cell_type": "code",
      "metadata": {
        "id": "8zl-EkRsxSGk"
      },
      "source": [
        "status_individual = calcula_status_individual_inicial(inicial_exemplo)"
      ],
      "execution_count": null,
      "outputs": []
    },
    {
      "cell_type": "markdown",
      "metadata": {
        "id": "6aqSft-oxV_G"
      },
      "source": [
        "o ``status_individual`` retornado é um **dictionary**. Para acessar o valor de cada parâmetro, digitamos o nome do parâmetro:"
      ]
    },
    {
      "cell_type": "code",
      "metadata": {
        "id": "ZTDZCez5xVLn"
      },
      "source": [
        "status_individual[\"vida\"]"
      ],
      "execution_count": null,
      "outputs": []
    },
    {
      "cell_type": "code",
      "metadata": {
        "id": "W1AAkaPkx6Fv"
      },
      "source": [
        "status_individual[\"defesa\"]"
      ],
      "execution_count": null,
      "outputs": []
    },
    {
      "cell_type": "markdown",
      "metadata": {
        "id": "4nQpz-NBzGVR"
      },
      "source": [
        "Mas temos vários jogadores!\n",
        "Então temos uma função que calcula o status de cada jogador:"
      ]
    },
    {
      "cell_type": "code",
      "metadata": {
        "id": "WwGknP70zO_y"
      },
      "source": [
        " # Calcula o status iniciais de todos os jogadores\n",
        " # Recebe: iniciais = uma lista de funções iniciais\n",
        " # Retorna: um dictionary de status iniciais\n",
        " def calcula_status_inicial(status, iniciais):\n",
        "  msg = \"\" # Mensagem do que aconteceu\n",
        "  n = len(iniciais)\n",
        "  for player in range(0,n):\n",
        "    if valida_inicial(iniciais[player]):\n",
        "      status[player] = calcula_status_individual_inicial(iniciais[player])\n",
        "      msg = msg+\"Jogador \"+str(player)+\" com o seguinte status:\\n\"\n",
        "      msg = msg+\"Vida: \"+str(status[player][\"vida\"])+\"\\n\"\n",
        "      msg = msg+\"Posicao: (\"+str(status[player][\"x\"])+\",\"+str(status[player][\"y\"])+\")\\n\"\n",
        "      msg = msg+\"Tipo: \"+str(status[player][\"tipo\"])+\"\\n\"\n",
        "      msg = msg+\"Ataque: \"+str(status[player][\"ataque\"])+\"\\n\"\n",
        "      msg = msg+\"Ataque Especial: \"+str(status[player][\"ataque_esp\"])+\"\\n\"\n",
        "      msg = msg+\"Defesa: \"+str(status[player][\"defesa\"])+\"\\n\"\n",
        "      msg = msg+\"Sorte: \"+str(status[player][\"sorte\"])+\"\\n\\n\"\n",
        "    else:\n",
        "      msg = \"Jogador \"+str(player)+\" com configuração inválida\\n\"\n",
        "      return (msg,False)\n",
        "  return (msg, True)"
      ],
      "execution_count": null,
      "outputs": []
    },
    {
      "cell_type": "markdown",
      "metadata": {
        "id": "E6hNw0LGzysW"
      },
      "source": [
        "Exemplo de uso com 3 jogadores:"
      ]
    },
    {
      "cell_type": "code",
      "metadata": {
        "id": "A_W0XfU-zyF0"
      },
      "source": [
        "iniciais = [inicial_exemplo,inicial_exemplo,inicial_exemplo]\n",
        "status = dict()\n",
        "(msg,cond) = calcula_status_inicial(status, iniciais)\n",
        "print(cond, \"todos os jogadores tem configuração inicial válida\")\n",
        "print(msg)"
      ],
      "execution_count": null,
      "outputs": []
    },
    {
      "cell_type": "markdown",
      "metadata": {
        "id": "5XWcuXC70Ejo"
      },
      "source": [
        "Veja como acessar o status do jogador 0:"
      ]
    },
    {
      "cell_type": "code",
      "metadata": {
        "id": "i04XJ7w30CQt"
      },
      "source": [
        "status[0]"
      ],
      "execution_count": null,
      "outputs": []
    },
    {
      "cell_type": "markdown",
      "metadata": {
        "id": "_6NragUB0Ic_"
      },
      "source": [
        "Para acessar o valor do parâmetro de 'ataque' do jogador 0:"
      ]
    },
    {
      "cell_type": "code",
      "metadata": {
        "id": "h2LXWoSt0MBW"
      },
      "source": [
        "status[0]['ataque']"
      ],
      "execution_count": null,
      "outputs": []
    },
    {
      "cell_type": "code",
      "metadata": {
        "id": "nGmbVbpWbBmD"
      },
      "source": [
        "for jogador in status.keys():\n",
        "  print(jogador)\n",
        "  print(status[jogador])\n",
        "  print(\"Jogador\",jogador,\"tem vida\",status[jogador][\"vida\"])"
      ],
      "execution_count": null,
      "outputs": []
    },
    {
      "cell_type": "markdown",
      "metadata": {
        "id": "mg7trkNk0ULO"
      },
      "source": [
        "## Importante! \n",
        "\n",
        "Os status dos jogadores será utilizado no jogo inteiro!\n",
        "\n",
        "Veja, por exemplo, a função que decide se um jogador p1 e um jogador p2 estão a uma distância $\\leq r$ (que tipo de distância é esta?)."
      ]
    },
    {
      "cell_type": "code",
      "metadata": {
        "id": "CsC94A0tvG8B"
      },
      "source": [
        "def prox(status, p1, p2, r, mapa_x, mapa_y):\n",
        "  # posicoes dos jogadores p1 e p2\n",
        "  x1 = status[p1][\"x\"]\n",
        "  y1 = status[p1][\"y\"]\n",
        "  x2 = status[p2][\"x\"]\n",
        "  y2 = status[p2][\"y\"]\n",
        "\n",
        "  dx = abs(x1-x2)\n",
        "  dy = abs(y1-y2)\n",
        "\n",
        "  if dx<=r and dy<=r:\n",
        "    return True\n",
        "  return False"
      ],
      "execution_count": null,
      "outputs": []
    },
    {
      "cell_type": "markdown",
      "metadata": {
        "id": "1SkjBF6Z07jx"
      },
      "source": [
        "Aqui está a função que decide se existe no máximo um jogador vivo (e o jogo deve acabar).\n",
        "\n",
        "## Importante! ``status.keys()`` é uma lista com os identificadores numéricos todos os jogadores"
      ]
    },
    {
      "cell_type": "code",
      "metadata": {
        "id": "lgy0CaGa1Cok"
      },
      "source": [
        "def acabou(status):\n",
        "  c = 0 #vai contar os numero de jogadores vivos\n",
        "  for player in status.keys():\n",
        "    if status[player][\"vida\"]>0: \n",
        "      c = c+1\n",
        "  if c <= 1: #acabou!\n",
        "    return True \n",
        "  else:\n",
        "    return False"
      ],
      "execution_count": null,
      "outputs": []
    },
    {
      "cell_type": "markdown",
      "metadata": {
        "id": "Flew_t9C2nTV"
      },
      "source": [
        "A função abaixo é usada para atualizar tipo, defesa e sorte:"
      ]
    },
    {
      "cell_type": "code",
      "metadata": {
        "id": "z4twQv7n2md7"
      },
      "source": [
        "def atualiza_tipo_defesa_sorte(status, player, move):\n",
        "  tipos = [\"NORMAL\",\"AGUA\",\"FOGO\",\"PLANTA\", \"LUZ\", \"ESCURIDAO\"]\n",
        "  msg = \"Jogador \"+str(player)+\" escolheu movimento inválido \"+str(move)+\"\\n\"\n",
        "  if move==\"DF_INC\":\n",
        "    increase = rd.randint(5,10)\n",
        "    status[player][\"defesa\"] = (1+increase/100)*status[player][\"defesa\"]\n",
        "    msg = \"Jogador \"+str(player)+\" aumentou sua defesa em \"+str(increase)+\"%\\n\"\n",
        "  elif move==\"SORTE_INC\":\n",
        "    increase = rd.randint(5,10)\n",
        "    status[player][\"sorte\"] = (1+increase/100)*status[player][\"sorte\"]\n",
        "    msg = \"Jogador \"+str(player)+\" aumentou sua sorte em \"+str(increase)+\"%\\n\"\n",
        "  elif move in tipos:\n",
        "        status[player][\"tipo\"] = move\n",
        "        msg = \"Jogador \"+str(player)+\" mudou seu tipo para \"+str(move)+\"\\n\"\n",
        "  return msg"
      ],
      "execution_count": null,
      "outputs": []
    },
    {
      "cell_type": "markdown",
      "metadata": {
        "id": "Cr7u3uHQ3Ifw"
      },
      "source": [
        "A função a seguir é usada para atualizar as posições.\n",
        "\n",
        "``move_list`` contém as informações da movimentações escolhidas\n",
        "\n",
        "Esta função lida com os casos em que os jogadores colidem."
      ]
    },
    {
      "cell_type": "code",
      "metadata": {
        "id": "NANav_Ic3Eps"
      },
      "source": [
        "def atualiza_posicoes(status, move_list):\n",
        "  msg = \"\"\n",
        "  # realiza movimentacoes\n",
        "  for (player, move) in move_list:\n",
        "    (x,y) = pos(status[player][\"x\"],status[player][\"y\"],move)\n",
        "    msg = msg+\"Jogador \"+str(player)+\" se move para (\"+str(x)+\",\"+str(y)+\")\\n\"\n",
        "    status[player][\"x\"] = x\n",
        "    status[player][\"y\"] = y\n",
        "\n",
        "# verifica e lida com colisoes\n",
        "  mapa = dict()\n",
        "  for x in range(0,mapa_x, step):\n",
        "    mapa[x] = dict()\n",
        "    for y in range(0,mapa_y, step):\n",
        "      mapa[x][y] = []\n",
        "  for player in status.keys():\n",
        "    mapa[status[player][\"x\"]][status[player][\"y\"]].append(player)\n",
        "\n",
        "  colisao = True\n",
        "  while colisao:\n",
        "    colisao = False\n",
        "    for x in range(0,mapa_x, step):\n",
        "      for y in range(0,mapa_y, step):\n",
        "        if len(mapa[x][y])>1: # tem mais de um jogador em (x,y)!\n",
        "          msg = msg+\"Colisão em (\"+str(x)+\",\"+str(y)+\"):\\n Jogadores\"\n",
        "          for player in mapa[x][y]:\n",
        "            msg = msg+\" \"+str(player)\n",
        "          msg = msg+\"\\n\"\n",
        "          colisao = True\n",
        "          l = mapa[x][y].copy()\n",
        "          for player in l:\n",
        "            mapa[x][y].remove(player)\n",
        "            x_novo = rd.randint(step,mapa_x-step)//step*step #para garantir que a posicao é multiplo de step\n",
        "            y_novo = rd.randint(step,mapa_y-step)//step*step\n",
        "            status[player][\"x\"] = x_novo\n",
        "            status[player][\"y\"] = y_novo\n",
        "            msg = msg+\"Jogador \"+str(player)+\" reaparece em (\"+str(x_novo)+\",\"+str(y_novo)+\")\\n\"\n",
        "            mapa[x_novo][y_novo].append(player)\n",
        "\n",
        "  return msg"
      ],
      "execution_count": null,
      "outputs": []
    },
    {
      "cell_type": "markdown",
      "metadata": {
        "id": "M_f5H2ON4EzR"
      },
      "source": [
        "A função a seguir é utilizada para realizar os ataques!\n",
        "\n",
        "``at_list`` é a lista de ataques a serem realizados no turno"
      ]
    },
    {
      "cell_type": "code",
      "metadata": {
        "id": "QlBw0FlW3Cgt"
      },
      "source": [
        "def atualiza_ataques(status, at_list):\n",
        "  n_attackers = len(at_list)\n",
        "  eps = 0.00001 #para evitar problemas numéricos\n",
        "  msg = \"\"\n",
        "  at_list_log = []\n",
        "  for (attacker, attack) in at_list:\n",
        "    #raio de ataque\n",
        "    r = int(raio*status[attacker][\"ataque\"]*status[attacker][\"sorte\"]*(0.8+rd.random()/2.5))\n",
        "\n",
        "    # at_list_log é usada para guardar um log dos ataques realizados\n",
        "    # não influencia no ataque\n",
        "    at_list_log.append([attacker, attack, r, status[attacker][\"tipo\"]])\n",
        "\n",
        "    if attack == \"AT\": #ataque normal\n",
        "      msg += \"Jogador \"+str(attacker)+\" ataca! Seu raio de ataque é \"+str(r)+\"\\n\"\n",
        "    else: #ataque de elemento/especial\n",
        "      msg += \"Jogador \"+str(attacker)+\" ataca com seu elemento! Seu raio de ataque é \"+str(r)+\"\\n\"\n",
        "\n",
        "    for player in status.keys(): # ver quem foi acertado pelo ataque\n",
        "      if player != attacker and prox(status, player, attacker, r, mapa_x, mapa_y) and status[player][\"vida\"] > 0:\n",
        "        # multiplicadores que vão determinar o dano\n",
        "        multi1 = status[attacker][\"ataque\"]\n",
        "        multi2 = max(1/status[player][\"defesa\"],0.2)\n",
        "        multi3 = 1\n",
        "        if status[attacker][\"tipo\"]==\"NORMAL\":\n",
        "          multi3 = 1.2\n",
        "        elif attack==\"AE\" and especial(status[attacker][\"tipo\"], status[player][\"tipo\"])==True:\n",
        "          multi3 = 1.5\n",
        "        elif  attack==\"AE\" and especial(status[attacker][\"tipo\"], status[player][\"tipo\"])==False:\n",
        "          multi3 = 0.7\n",
        "        dano = int(dano_base*multi1*multi2*multi3)\n",
        "        status[player][\"vida\"] = max(status[player][\"vida\"]-dano,0)\n",
        "        msg += \"Jogador \"+str(player)+\" sofre \"+str(dano)+\" de dano e está com \"+str(status[player][\"vida\"])+\" de vida!\\n\"\n",
        "  return (msg,at_list_log) # retorna mensagem e log"
      ],
      "execution_count": null,
      "outputs": []
    },
    {
      "cell_type": "markdown",
      "metadata": {
        "id": "OJuKTape5Jbv"
      },
      "source": [
        "# E finalmente a função que vai rodar o jogo!"
      ]
    },
    {
      "cell_type": "code",
      "metadata": {
        "id": "odeCa0SF4Irw"
      },
      "source": [
        "# iniciais: lista de funções de configuração inicial\n",
        "# turnos: lista de funções de turnos\n",
        "# modo: 0 para indicar que é para imprimir mensagens.\n",
        "# 1 para indicar que é para rodar sem imprimir\n",
        "\n",
        "def jogo(iniciais, turnos, modo):\n",
        "  log = dict() #para logar o que aconteceu\n",
        "  log[\"status\"]=dict()\n",
        "  log[\"ataque\"]=dict()\n",
        "\n",
        "  n = len(iniciais) #quantidade de jogadores\n",
        "\n",
        "  status = dict() \n",
        "  \n",
        "  #iniciando os status dos jogadores\n",
        "  (msg,cond) = calcula_status_inicial(status, iniciais)\n",
        "  if modo==0:\n",
        "      print(msg)\n",
        "  if cond==False:\n",
        "    return\n",
        "\n",
        "  #lidando com colisoes\n",
        "  msg = atualiza_posicoes(status, [])\n",
        "  print(msg,end = '')\n",
        "\n",
        "  # realizando turnos\n",
        "  for i in range(0, max_turnos):\n",
        "    # verificando se o jogo já acabou\n",
        "    if acabou(status):\n",
        "      break\n",
        "\n",
        "    print(\"\\n-----------\\nTurno\",(i+1))\n",
        "    move_list = []\n",
        "    at_list = []\n",
        "    for player in status.keys():\n",
        "      if status[player][\"vida\"]>0:\n",
        "        move = turnos[player](status, player)\n",
        "        if move in [\"DF_INC\", \"SORTE_INC\", \n",
        "           \"FOGO\", \"AGUA\", \"PLANTA\", \"LUZ\", \"ESCURIDAO\", \"NORMAL\"]:\n",
        "          msg = atualiza_tipo_defesa_sorte(status, player, move)\n",
        "          if modo==0:\n",
        "            print(msg,end = '')\n",
        "        elif move in [\"N\",\"S\",\"L\",\"O\",\"NO\",\"NL\",\"SL\",\"SO\"]:\n",
        "          move_list.append([player, move])\n",
        "        elif move in [\"AT\",\"AE\"]:\n",
        "          at_list.append([player, move])\n",
        "        else:\n",
        "          if modo==0:\n",
        "            print(\"Jogador \"+str(player)+\" escolheu movimento inválido \"+str(move))\n",
        "\n",
        "    #atualiza posicoes\n",
        "    msg = atualiza_posicoes(status, move_list)\n",
        "    if modo==0:\n",
        "      print(msg,end = '')\n",
        "\n",
        "    # realiza ataques\n",
        "    msg,at_list_log = atualiza_ataques(status, at_list)\n",
        "    if modo==0:\n",
        "      print(msg,end = '')\n",
        "\n",
        "    # guardando informações\n",
        "    log[\"status\"][i] = copy.deepcopy(status)\n",
        "    log[\"ataque\"][i] = copy.deepcopy(at_list_log)\n",
        "  return log"
      ],
      "execution_count": null,
      "outputs": []
    },
    {
      "cell_type": "markdown",
      "metadata": {
        "id": "5kCyKi3k78Kp"
      },
      "source": [
        "Veja como rodar o jogo. \n",
        "\n",
        "Criamos uma lista com as funções de configuração iniciais e uma lista com as funções de turno (em ordem por jogador).\n",
        "\n",
        "## JOGANDO! Você é o jogador 0 neste exemplo!"
      ]
    },
    {
      "cell_type": "code",
      "metadata": {
        "id": "KDVOFKKgXUS2"
      },
      "source": [
        "def turno_t(status, jogador):\n",
        "  j = 0\n",
        "  op = 1\n",
        "  dir = \"DF_INC\"\n",
        "  if status[op][\"vida\"] > status[j][\"vida\"]:\n",
        "    dir = \"\"\n",
        "    if status[op][\"y\"] > status[j][\"y\"]:\n",
        "      dir += \"S\"\n",
        "    elif status[op][\"y\"] < status[j][\"y\"]:\n",
        "      dir += \"N\"\n",
        "    if status[op][\"x\"] > status[j][\"x\"]:\n",
        "      dir += \"O\"\n",
        "    elif status[op][\"x\"] < status[j][\"x\"]:\n",
        "      dir += \"L\"\n",
        "  elif prox(status,j,op,raio,mapa_x,mapa_y):\n",
        "    return \"AT\"\n",
        "  else:\n",
        "    dir = \"\"\n",
        "    if status[op][\"y\"] > status[j][\"y\"]:\n",
        "      dir += \"N\"\n",
        "    elif status[op][\"y\"] < status[j][\"y\"]:\n",
        "      dir += \"S\"\n",
        "    if status[op][\"x\"] > status[j][\"x\"]:\n",
        "      dir += \"L\"\n",
        "    elif status[op][\"x\"] < status[j][\"x\"]:\n",
        "      dir += \"O\"\n",
        "  return dir\n"
      ],
      "execution_count": null,
      "outputs": []
    },
    {
      "cell_type": "code",
      "metadata": {
        "id": "x9WT6QbohTaw"
      },
      "source": [
        "iniciais = [inicial, inicial_exemplo]\n",
        "turnos = [turno, turno_aleatorio]\n",
        "log = jogo(iniciais, turnos, 0)"
      ],
      "execution_count": null,
      "outputs": []
    },
    {
      "cell_type": "code",
      "metadata": {
        "id": "rgZ6bXEUeQKP"
      },
      "source": [
        "iniciais = [inicialArena, inicial_exemplo, inicial_exemplo, inicial_exemplo,inicial_exemplo]\n",
        "turnos = [turnoArena, turno_aleatorio, turno_so_ataca, turno_so_ataca, turno_aleatorio]\n",
        "log = jogo(iniciais, turnos, 0)"
      ],
      "execution_count": null,
      "outputs": []
    },
    {
      "cell_type": "markdown",
      "metadata": {
        "id": "JqM9LYbn-oJc"
      },
      "source": [
        "# Animação \n",
        "\n",
        "Se quiser ver uma animação do jogo, rode a célula abaixo após rodar o jogo.\n",
        "\n",
        "As cores mostram o tipo do jogador:\n",
        "\n",
        "* marrom = NORMAL\n",
        "\n",
        "* azul = AGUA\n",
        "\n",
        "* vermelho = FOGO\n",
        "\n",
        "* verde = PLANTA\n",
        "\n",
        "* amarelo = LUZ\n",
        "\n",
        "* roxo = ESCURIDAO\n",
        "\n",
        "* cinza = DEU RUIM\n",
        "\n",
        "O quadrado mostra que um jogador está atacando e mostra seu raio de ataque."
      ]
    },
    {
      "cell_type": "code",
      "metadata": {
        "id": "EvcCeudKIGXD"
      },
      "source": [
        "x = dict()\n",
        "y = dict()\n",
        "size = dict()\n",
        "color = dict()\n",
        "text = dict()\n",
        "jogador = dict()\n",
        "s = 100\n",
        "marrom = \"#855000\"\n",
        "azul = \"#0021c4\"\n",
        "vermelho = \"#FF4C2C\"\n",
        "verde = \"#078a00\"\n",
        "amarelo = \"#ffd000\"\n",
        "roxo = \"#451f78\"\n",
        "cinza = \"#B2B2B2\"\n",
        "m = 0\n",
        "for i in range(0,max_turnos):\n",
        "  x[i] = []\n",
        "  y[i] = []\n",
        "  size[i] = []\n",
        "  color[i] = []\n",
        "  text[i] = []\n",
        "  jogador[i] = []\n",
        "  if i in log[\"status\"].keys():\n",
        "    m = i\n",
        "    ii = i\n",
        "  else:\n",
        "    ii = m\n",
        "  for player in log[\"status\"][ii].keys():\n",
        "    p = log[\"status\"][ii][player]\n",
        "    if p[\"vida\"]>0:\n",
        "      x[i].append(p[\"x\"])\n",
        "      y[i].append(p[\"y\"])\n",
        "      size[i].append(s)\n",
        "      text[i].append(str(player)+'\\n'+str(p[\"vida\"]))\n",
        "      jogador[i].append(player)\n",
        "      tipo = p[\"tipo\"]\n",
        "      if tipo==\"NORMAL\":\n",
        "        color[i].append(marrom)\n",
        "      elif tipo==\"AGUA\":\n",
        "        color[i].append(azul)\n",
        "      elif tipo==\"PLANTA\":\n",
        "        color[i].append(verde)\n",
        "      elif tipo==\"FOGO\":\n",
        "        color[i].append(vermelho)\n",
        "      elif tipo==\"ESCURIDAO\":\n",
        "        color[i].append(roxo)\n",
        "      elif tipo==\"LUZ\":\n",
        "        color[i].append(amarelo)\n",
        "      else:\n",
        "        color[i].append(cinza)\n",
        "\n",
        "camera = Camera(plt.figure())\n",
        "plt.axis(\"equal\")\n",
        "\n",
        "for i in range(0,m):\n",
        "    plt.scatter(x[i],y[i],c=color[i], s=size[i])\n",
        "    for j in range(0,len(text[i])):\n",
        "      plt.text(x[i][j],y[i][j],text[i][j])\n",
        "      for [k, at, r, tipo] in log[\"ataque\"][i]:\n",
        "        if k==jogador[i][j]:\n",
        "          c = cinza\n",
        "          if at==\"AT\":\n",
        "            c=marrom\n",
        "          else:\n",
        "            if tipo==\"NORMAL\":\n",
        "              c = marrom\n",
        "            elif tipo==\"AGUA\":\n",
        "              c = azul\n",
        "            elif tipo==\"PLANTA\":\n",
        "              c=verde\n",
        "            elif tipo==\"FOGO\":\n",
        "              c=vermelho\n",
        "            elif tipo==\"ESCURIDAO\":\n",
        "              c= roxo\n",
        "            elif tipo==\"LUZ\":\n",
        "              c=amarelo\n",
        "          plt.plot([x[i][j]-r, x[i][j]+r, x[i][j]+r, x[i][j]-r,x[i][j]-r],\n",
        "                   [y[i][j]-r, y[i][j]-r, y[i][j]+r, y[i][j]+r,y[i][j]-r],c=c)\n",
        "          for delta in range(0,21):\n",
        "            xx = np.arange(x[i][j]-r, x[i][j]+r)\n",
        "            plt.plot(xx, (y[i][j]+delta*2*r/20-r)*np.array([1]*len(xx)),c=c,alpha =0.8)   \n",
        "    camera.snap()\n",
        "\n",
        "from IPython.display import HTML\n",
        "anim = camera.animate(blit=True,interval=1500,repeat=False)\n",
        "HTML(anim.to_html5_video())"
      ],
      "execution_count": null,
      "outputs": []
    },
    {
      "cell_type": "code",
      "metadata": {
        "id": "7BQATUoi8eM8"
      },
      "source": [],
      "execution_count": null,
      "outputs": []
    }
  ]
}