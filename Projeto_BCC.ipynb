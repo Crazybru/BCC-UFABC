{
  "nbformat": 4,
  "nbformat_minor": 0,
  "metadata": {
    "colab": {
      "provenance": []
    },
    "kernelspec": {
      "name": "python3",
      "display_name": "Python 3"
    }
  },
  "cells": [
    {
      "cell_type": "markdown",
      "metadata": {
        "id": "XBvBNhU9u2Om"
      },
      "source": [
        "> # Importante!\n",
        "> Execute os códigos nas suas respectivas sequências para evitar erros.\n",
        "\n",
        "# Título: \n",
        "## Análise da relação entre os jogos mais jogados da plataforma Steam e dos jogos mais assistidos na plataforma de streaming Twitch\n",
        "\n",
        "# Nomes: \n",
        "  \n",
        "\n",
        "\n",
        "*   ##     Brunno Toscano Messias \n",
        "*   ##     Marco Antonio Lopes Rodrigues\n",
        "\n",
        "\n",
        "\n",
        "\n",
        "\n",
        "  \n",
        "\n",
        "# Descrição:\n",
        "\n",
        "Nesta projeto apuramos informações retiradas do site TwitchMetric e SteamDB para verificar correlaçõs entre os jogos da Steam e as suas atuações na plataforma de streaming Twitch.\n",
        "\n",
        "Analisamos os jogos de acordo com os jogadores simultâneos e os dados de espectadores da Twitch (também foi efetuado um levantamento aproximado de renda para os jogos que não são grátis).\n",
        "\n",
        "# Fontes:\n",
        "\n",
        "- Fonte principal dos dados da plataforma Steam: steamdb.info\n",
        "\n",
        "- Fonte principal dos dados da Twitch: https://www.twitchmetrics.net\n",
        "\n",
        "\n",
        "# Links para planilhas\n",
        "Twitch: https://drive.google.com/u/0/uc?id=1oPZyo28_uzAoFFPFUQN7PVBSR0wZjAJF&export=download\n",
        "\n",
        "Steam:\n",
        "- Dia 1: https://drive.google.com/u/0/uc?id=10ZGbbug6DQ0lKAyzyXm5xnK9lu-ptVXt&export=download\n",
        "- Dia 2: https://drive.google.com/u/0/uc?id=1CBkXBuyMMglnlwgLFFSd488mmZYTDQVh&export=download\n",
        "- Dia 3: https://drive.google.com/u/0/uc?id=17jbv04-J6IdvkI0Rb_qiR5c8ZIl7rWHm&export=download\n",
        "\n",
        "Dados da Twitch coletados no dia 10/11/2020, informações com base no ultimos 30 dias.\n",
        "\n",
        "Dados da Steam coletados nos dias 7/11, 8/11 e 9/11 respectivamente.\n",
        "\n",
        "Colunas (Twitch):  \n",
        "\n",
        "*   Mais Assistidos: Classificado pelo total de horas de visualização (horas ao vivo x média de espectadores).\n",
        "*   Mais Transmitidos: Classificado pela média de canais ao vivo simultâneos.\n",
        "*   Maior Pico de Views: Classificado pela maior contagem de espectadores registrada.\n",
        "*   Mais Populares: Classificado pela maior contagem média de espectadores.\n",
        "\n",
        "\n",
        "\n",
        "\n",
        "-\n",
        "-\n",
        "\n",
        "#Link para o vídeo:\n",
        "https://youtu.be/OLW9o8yAx0Q"
      ]
    },
    {
      "cell_type": "markdown",
      "metadata": {
        "id": "ExqDdG9TE7Xy"
      },
      "source": [
        "*Importando bibliotecas e planilhas.*.."
      ]
    },
    {
      "cell_type": "code",
      "metadata": {
        "id": "f09yofzaZQMr"
      },
      "source": [
        "import pandas as pd\n",
        "import numpy as np\n",
        "import math\n",
        "import matplotlib.pyplot as plt\n",
        "%matplotlib inline"
      ],
      "execution_count": null,
      "outputs": []
    },
    {
      "cell_type": "code",
      "metadata": {
        "id": "FWbKClrHFM4m"
      },
      "source": [
        "#Steam\n",
        "dfs = pd.read_csv(\"https://drive.google.com/u/0/uc?id=10ZGbbug6DQ0lKAyzyXm5xnK9lu-ptVXt&export=download\")\n",
        "dfs2 = pd.read_csv(\"https://drive.google.com/u/0/uc?id=1CBkXBuyMMglnlwgLFFSd488mmZYTDQVh&export=download\")\n",
        "dfs3 = pd.read_csv(\"https://drive.google.com/u/0/uc?id=17jbv04-J6IdvkI0Rb_qiR5c8ZIl7rWHm&export=download\")\n",
        "#Twitch\n",
        "dfTwitch = pd.read_csv(\"https://drive.google.com/u/0/uc?id=1oPZyo28_uzAoFFPFUQN7PVBSR0wZjAJF&export=download\")"
      ],
      "execution_count": null,
      "outputs": []
    },
    {
      "cell_type": "markdown",
      "metadata": {
        "id": "pbjxiVgAEmrl"
      },
      "source": [
        "# **Análise Twitch**"
      ]
    },
    {
      "cell_type": "markdown",
      "metadata": {
        "id": "NYK2cqRij-wb"
      },
      "source": [
        "Começamos com a leitura da planilha e vamos ordena-la pelo pico de Views do maior para menor (para melhor compreensão apenas listamos os 5 primeiros resultados).\n",
        "\n",
        "\n"
      ]
    },
    {
      "cell_type": "code",
      "metadata": {
        "id": "ejmsel4VsuZT",
        "outputId": "9d72ca3e-f069-4de8-e4a5-0ea1fc4e3b2c",
        "colab": {
          "base_uri": "https://localhost:8080/",
          "height": 204
        }
      },
      "source": [
        "dfTwitch[['Jogo','PicoViewers']].sort_values(by=\"PicoViewers\", ascending=False).head(5)"
      ],
      "execution_count": null,
      "outputs": [
        {
          "output_type": "execute_result",
          "data": {
            "text/html": [
              "<div>\n",
              "<style scoped>\n",
              "    .dataframe tbody tr th:only-of-type {\n",
              "        vertical-align: middle;\n",
              "    }\n",
              "\n",
              "    .dataframe tbody tr th {\n",
              "        vertical-align: top;\n",
              "    }\n",
              "\n",
              "    .dataframe thead th {\n",
              "        text-align: right;\n",
              "    }\n",
              "</style>\n",
              "<table border=\"1\" class=\"dataframe\">\n",
              "  <thead>\n",
              "    <tr style=\"text-align: right;\">\n",
              "      <th></th>\n",
              "      <th>Jogo</th>\n",
              "      <th>PicoViewers</th>\n",
              "    </tr>\n",
              "  </thead>\n",
              "  <tbody>\n",
              "    <tr>\n",
              "      <th>0</th>\n",
              "      <td>League of Legends</td>\n",
              "      <td>1999606</td>\n",
              "    </tr>\n",
              "    <tr>\n",
              "      <th>1</th>\n",
              "      <td>Among Us</td>\n",
              "      <td>762073</td>\n",
              "    </tr>\n",
              "    <tr>\n",
              "      <th>4</th>\n",
              "      <td>Counter-Strike: Global Offensive</td>\n",
              "      <td>546239</td>\n",
              "    </tr>\n",
              "    <tr>\n",
              "      <th>6</th>\n",
              "      <td>FIFA 21</td>\n",
              "      <td>469155</td>\n",
              "    </tr>\n",
              "    <tr>\n",
              "      <th>5</th>\n",
              "      <td>Minecraft</td>\n",
              "      <td>458576</td>\n",
              "    </tr>\n",
              "  </tbody>\n",
              "</table>\n",
              "</div>"
            ],
            "text/plain": [
              "                               Jogo  PicoViewers\n",
              "0                 League of Legends      1999606\n",
              "1                          Among Us       762073\n",
              "4  Counter-Strike: Global Offensive       546239\n",
              "6                           FIFA 21       469155\n",
              "5                         Minecraft       458576"
            ]
          },
          "metadata": {
            "tags": []
          },
          "execution_count": 17
        }
      ]
    },
    {
      "cell_type": "markdown",
      "metadata": {
        "id": "MWFGJFSkChma"
      },
      "source": [
        "Aqui podemos ver que há uma diferença gritante da primeira colocação para a segunda.\n",
        "Após uma pequena pesquisa sobre o jogo é possível ver que no mês de Outubro (quando os dados foram coletados) houve um campeonato mundial alcançando 1 999 606 viewers simultâneos. \n",
        "\n",
        "https://globoesporte.globo.com/esports/lol/noticia/worlds-2020-tabela-datas-e-horarios-dos-jogos-no-mundial-de-lol.ghtml\n",
        "\n"
      ]
    },
    {
      "cell_type": "markdown",
      "metadata": {
        "id": "v-cwby0DiIWw"
      },
      "source": [
        "Vamos olhar diretamente para a relação Estudio e popularidade do jogo em questão. Ordenando a tabela pela popularidade."
      ]
    },
    {
      "cell_type": "code",
      "metadata": {
        "id": "s8l-C2nyjqb4",
        "outputId": "b862c9cf-8f8e-46eb-bd9f-9095405d99f8",
        "colab": {
          "base_uri": "https://localhost:8080/",
          "height": 359
        }
      },
      "source": [
        "dfTwitch[['Jogo','Estudio','MaisPopulares']].sort_values(by='MaisPopulares', ascending=False).head(10)"
      ],
      "execution_count": null,
      "outputs": [
        {
          "output_type": "execute_result",
          "data": {
            "text/html": [
              "<div>\n",
              "<style scoped>\n",
              "    .dataframe tbody tr th:only-of-type {\n",
              "        vertical-align: middle;\n",
              "    }\n",
              "\n",
              "    .dataframe tbody tr th {\n",
              "        vertical-align: top;\n",
              "    }\n",
              "\n",
              "    .dataframe thead th {\n",
              "        text-align: right;\n",
              "    }\n",
              "</style>\n",
              "<table border=\"1\" class=\"dataframe\">\n",
              "  <thead>\n",
              "    <tr style=\"text-align: right;\">\n",
              "      <th></th>\n",
              "      <th>Jogo</th>\n",
              "      <th>Estudio</th>\n",
              "      <th>MaisPopulares</th>\n",
              "    </tr>\n",
              "  </thead>\n",
              "  <tbody>\n",
              "    <tr>\n",
              "      <th>0</th>\n",
              "      <td>League of Legends</td>\n",
              "      <td>Riot Game</td>\n",
              "      <td>296976</td>\n",
              "    </tr>\n",
              "    <tr>\n",
              "      <th>1</th>\n",
              "      <td>Among Us</td>\n",
              "      <td>InnerSloth</td>\n",
              "      <td>137106</td>\n",
              "    </tr>\n",
              "    <tr>\n",
              "      <th>2</th>\n",
              "      <td>Fortnite</td>\n",
              "      <td>Epic Games</td>\n",
              "      <td>106881</td>\n",
              "    </tr>\n",
              "    <tr>\n",
              "      <th>3</th>\n",
              "      <td>Call Of Duty: Modern Warfare</td>\n",
              "      <td>Activision</td>\n",
              "      <td>87211</td>\n",
              "    </tr>\n",
              "    <tr>\n",
              "      <th>4</th>\n",
              "      <td>Counter-Strike: Global Offensive</td>\n",
              "      <td>Valve Corporation</td>\n",
              "      <td>79179</td>\n",
              "    </tr>\n",
              "    <tr>\n",
              "      <th>5</th>\n",
              "      <td>Minecraft</td>\n",
              "      <td>Mojang</td>\n",
              "      <td>73458</td>\n",
              "    </tr>\n",
              "    <tr>\n",
              "      <th>6</th>\n",
              "      <td>FIFA 21</td>\n",
              "      <td>EA</td>\n",
              "      <td>71029</td>\n",
              "    </tr>\n",
              "    <tr>\n",
              "      <th>7</th>\n",
              "      <td>Grand Theft Auto V</td>\n",
              "      <td>Rockstar Games</td>\n",
              "      <td>68809</td>\n",
              "    </tr>\n",
              "    <tr>\n",
              "      <th>8</th>\n",
              "      <td>VALORANT</td>\n",
              "      <td>Riot Game</td>\n",
              "      <td>50027</td>\n",
              "    </tr>\n",
              "    <tr>\n",
              "      <th>9</th>\n",
              "      <td>Dota 2</td>\n",
              "      <td>Valve Corporation</td>\n",
              "      <td>46324</td>\n",
              "    </tr>\n",
              "  </tbody>\n",
              "</table>\n",
              "</div>"
            ],
            "text/plain": [
              "                               Jogo            Estudio  MaisPopulares\n",
              "0                 League of Legends          Riot Game         296976\n",
              "1                          Among Us         InnerSloth         137106\n",
              "2                          Fortnite         Epic Games         106881\n",
              "3      Call Of Duty: Modern Warfare         Activision          87211\n",
              "4  Counter-Strike: Global Offensive  Valve Corporation          79179\n",
              "5                         Minecraft             Mojang          73458\n",
              "6                           FIFA 21                 EA          71029\n",
              "7                Grand Theft Auto V     Rockstar Games          68809\n",
              "8                          VALORANT          Riot Game          50027\n",
              "9                            Dota 2  Valve Corporation          46324"
            ]
          },
          "metadata": {
            "tags": []
          },
          "execution_count": 18
        }
      ]
    },
    {
      "cell_type": "markdown",
      "metadata": {
        "id": "533JmgIslqY_"
      },
      "source": [
        "Dentre os 10 jogos mais populares fora o estudio indie de Among Us (InnerSloth), todos os outros são empresas grandes e já consolidadas no mercado, demonstrando a grande predominância nesse setor."
      ]
    },
    {
      "cell_type": "markdown",
      "metadata": {
        "id": "J_CEZde22Vf-"
      },
      "source": [
        "Procurando por mais constância vamos analisar o valores referentes a média."
      ]
    },
    {
      "cell_type": "code",
      "metadata": {
        "id": "xfGF8O-tF3Zb",
        "outputId": "2f3d8c1e-5a91-497f-c9fc-28834c9ae290",
        "colab": {
          "base_uri": "https://localhost:8080/",
          "height": 204
        }
      },
      "source": [
        "dfTwitch.sort_values(by='MaisPopulares', ascending=False).head(5)"
      ],
      "execution_count": null,
      "outputs": [
        {
          "output_type": "execute_result",
          "data": {
            "text/html": [
              "<div>\n",
              "<style scoped>\n",
              "    .dataframe tbody tr th:only-of-type {\n",
              "        vertical-align: middle;\n",
              "    }\n",
              "\n",
              "    .dataframe tbody tr th {\n",
              "        vertical-align: top;\n",
              "    }\n",
              "\n",
              "    .dataframe thead th {\n",
              "        text-align: right;\n",
              "    }\n",
              "</style>\n",
              "<table border=\"1\" class=\"dataframe\">\n",
              "  <thead>\n",
              "    <tr style=\"text-align: right;\">\n",
              "      <th></th>\n",
              "      <th>Jogo</th>\n",
              "      <th>MaisAssistido</th>\n",
              "      <th>PicoViewers</th>\n",
              "      <th>MaisTransmitidos</th>\n",
              "      <th>Estudio</th>\n",
              "      <th>MaisPopulares</th>\n",
              "    </tr>\n",
              "  </thead>\n",
              "  <tbody>\n",
              "    <tr>\n",
              "      <th>0</th>\n",
              "      <td>League of Legends</td>\n",
              "      <td>143073458</td>\n",
              "      <td>1999606</td>\n",
              "      <td>555</td>\n",
              "      <td>Riot Game</td>\n",
              "      <td>296976</td>\n",
              "    </tr>\n",
              "    <tr>\n",
              "      <th>1</th>\n",
              "      <td>Among Us</td>\n",
              "      <td>99539302</td>\n",
              "      <td>762073</td>\n",
              "      <td>455</td>\n",
              "      <td>InnerSloth</td>\n",
              "      <td>137106</td>\n",
              "    </tr>\n",
              "    <tr>\n",
              "      <th>2</th>\n",
              "      <td>Fortnite</td>\n",
              "      <td>77595243</td>\n",
              "      <td>458562</td>\n",
              "      <td>539</td>\n",
              "      <td>Epic Games</td>\n",
              "      <td>106881</td>\n",
              "    </tr>\n",
              "    <tr>\n",
              "      <th>3</th>\n",
              "      <td>Call Of Duty: Modern Warfare</td>\n",
              "      <td>63315502</td>\n",
              "      <td>377775</td>\n",
              "      <td>491</td>\n",
              "      <td>Activision</td>\n",
              "      <td>87211</td>\n",
              "    </tr>\n",
              "    <tr>\n",
              "      <th>4</th>\n",
              "      <td>Counter-Strike: Global Offensive</td>\n",
              "      <td>57483595</td>\n",
              "      <td>546239</td>\n",
              "      <td>197</td>\n",
              "      <td>Valve Corporation</td>\n",
              "      <td>79179</td>\n",
              "    </tr>\n",
              "  </tbody>\n",
              "</table>\n",
              "</div>"
            ],
            "text/plain": [
              "                               Jogo  ...  MaisPopulares\n",
              "0                 League of Legends  ...         296976\n",
              "1                          Among Us  ...         137106\n",
              "2                          Fortnite  ...         106881\n",
              "3      Call Of Duty: Modern Warfare  ...          87211\n",
              "4  Counter-Strike: Global Offensive  ...          79179\n",
              "\n",
              "[5 rows x 6 columns]"
            ]
          },
          "metadata": {
            "tags": []
          },
          "execution_count": 19
        }
      ]
    },
    {
      "cell_type": "markdown",
      "metadata": {
        "id": "5NH4xKSZPZdH"
      },
      "source": [
        "Será que os jogos mais transmitidos são os que tem uma maior média de espectadores ?\n",
        "\n",
        "Podemos ver se esta situação é real analisando a correlação das duas variáveis. "
      ]
    },
    {
      "cell_type": "code",
      "metadata": {
        "id": "7simJPyS1L84",
        "outputId": "9434ed2d-661a-4d83-d030-cd7dd08bf4db",
        "colab": {
          "base_uri": "https://localhost:8080/"
        }
      },
      "source": [
        "\n",
        "print((dfTwitch['MaisTransmitidos'].astype(float)).corr(dfTwitch['MaisPopulares']))\n"
      ],
      "execution_count": null,
      "outputs": [
        {
          "output_type": "stream",
          "text": [
            "0.7721160165267262\n"
          ],
          "name": "stdout"
        }
      ]
    },
    {
      "cell_type": "markdown",
      "metadata": {
        "id": "4iXR0aUTP6bl"
      },
      "source": [
        "A partir de 7, ja podemos considerar uma relação forte. Fazendo um gráfico fica mais visível esta correlação.\n",
        "\n"
      ]
    },
    {
      "cell_type": "code",
      "metadata": {
        "id": "9Q0_zsNkTMSa",
        "outputId": "ce71023c-3b3a-410c-c31c-001dada9cbbe",
        "colab": {
          "base_uri": "https://localhost:8080/",
          "height": 296
        }
      },
      "source": [
        "plt.xlabel(\"Média de Lives\")\n",
        "plt.ylabel(\"Média Espectadores\")\n",
        "print(plt.plot(dfTwitch['MaisTransmitidos'].astype(float),dfTwitch['MaisPopulares'].astype(float),'.'))\n"
      ],
      "execution_count": null,
      "outputs": [
        {
          "output_type": "stream",
          "text": [
            "[<matplotlib.lines.Line2D object at 0x7f06c4bcf358>]\n"
          ],
          "name": "stdout"
        },
        {
          "output_type": "display_data",
          "data": {
            "image/png": "[encoded data removed]",
            "text/plain": [
              "<Figure size 432x288 with 1 Axes>"
            ]
          },
          "metadata": {
            "tags": [],
            "needs_background": "light"
          }
        }
      ]
    },
    {
      "cell_type": "markdown",
      "metadata": {
        "id": "rO0npLOIaR-X"
      },
      "source": [
        "Podemos enxergar um ponto fora da curva devido o momento exepcional que coletamos os dados.\n",
        "\n",
        "A partir de uma reta de regressão linear (uma reta que se adequa ao dados), podemos ver de forma visual o que essa correlação siginifca."
      ]
    },
    {
      "cell_type": "code",
      "metadata": {
        "id": "PP8pjDjWaSfq",
        "outputId": "75f8be6e-4436-4187-d2f3-0075f4d36f40",
        "colab": {
          "base_uri": "https://localhost:8080/",
          "height": 299
        }
      },
      "source": [
        "x=dfTwitch['MaisTransmitidos']\n",
        "y=dfTwitch['MaisPopulares']\n",
        "(a, b) = np.polyfit(x, y, deg = 1)\n",
        "x = np.arange(0,555,1\t)\n",
        "y = a*x+b\n",
        "print(plt.plot(dfTwitch['MaisTransmitidos'].astype(float),dfTwitch['MaisPopulares'].astype(float),'.'))\n",
        "plt.plot(x,y,'r')"
      ],
      "execution_count": null,
      "outputs": [
        {
          "output_type": "stream",
          "text": [
            "[<matplotlib.lines.Line2D object at 0x7f6373b765f8>]\n"
          ],
          "name": "stdout"
        },
        {
          "output_type": "execute_result",
          "data": {
            "text/plain": [
              "[<matplotlib.lines.Line2D at 0x7f6374114e80>]"
            ]
          },
          "metadata": {
            "tags": []
          },
          "execution_count": 22
        },
        {
          "output_type": "display_data",
          "data": {
            "image/png": "[encoded data removed]",
            "text/plain": [
              "<Figure size 432x288 with 1 Axes>"
            ]
          },
          "metadata": {
            "tags": [],
            "needs_background": "light"
          }
        }
      ]
    },
    {
      "cell_type": "markdown",
      "metadata": {
        "id": "nWZJaeWMhnS5"
      },
      "source": [
        "Mas podemos perceber que nesta situação utilizar ela como predição não seria muito útil devido os fatores externos que influenciam as medições, como no caso do jogo League Of Legends."
      ]
    },
    {
      "cell_type": "markdown",
      "metadata": {
        "id": "AAaSSUqfExsY"
      },
      "source": [
        "# **Análise Steam**"
      ]
    },
    {
      "cell_type": "markdown",
      "metadata": {
        "id": "ivpmoxRspcge"
      },
      "source": [
        "Os dados coletados da plataforma Steam foram de três dias diferentes, então para efetuar nossa análise com mais precisão iremos fazer uma média dos três dias.\n",
        "\n",
        "Os únicos dados que mudam entre os três dias são os de \"Jogadores Simultaneos\" e \"Pico\" respectivamente (o \"Pico\" se refere ao pico de jogadores simultâneos do respectivo dia)."
      ]
    },
    {
      "cell_type": "code",
      "metadata": {
        "id": "UVc08-OaE1hM",
        "outputId": "e039ac9e-c969-4193-be47-d705b1771112",
        "colab": {
          "base_uri": "https://localhost:8080/",
          "height": 204
        }
      },
      "source": [
        "dfs[\"Jogadores Simultaneos\"] = (dfs[\"Jogadores Simultaneos\"] + dfs2[\"Jogadores Simultaneos\"]  + dfs3[\"Jogadores Simultaneos\"])/3\n",
        "dfs[\"Pico\"] = (dfs[\"Pico\"] + dfs2[\"Pico\"] +dfs3[\"Pico\"])/3\n",
        "dfs = dfs.astype({\"Jogadores Simultaneos\": int, \"Pico\": int})\n",
        "dfs.head(5)"
      ],
      "execution_count": null,
      "outputs": [
        {
          "output_type": "execute_result",
          "data": {
            "text/html": [
              "<div>\n",
              "<style scoped>\n",
              "    .dataframe tbody tr th:only-of-type {\n",
              "        vertical-align: middle;\n",
              "    }\n",
              "\n",
              "    .dataframe tbody tr th {\n",
              "        vertical-align: top;\n",
              "    }\n",
              "\n",
              "    .dataframe thead th {\n",
              "        text-align: right;\n",
              "    }\n",
              "</style>\n",
              "<table border=\"1\" class=\"dataframe\">\n",
              "  <thead>\n",
              "    <tr style=\"text-align: right;\">\n",
              "      <th></th>\n",
              "      <th>Jogo</th>\n",
              "      <th>Jogadores Simultaneos</th>\n",
              "      <th>Pico</th>\n",
              "      <th>Preco ()</th>\n",
              "      <th>Estimativa de Vendas (mi)</th>\n",
              "      <th>Renda</th>\n",
              "      <th>Estudio</th>\n",
              "    </tr>\n",
              "  </thead>\n",
              "  <tbody>\n",
              "    <tr>\n",
              "      <th>0</th>\n",
              "      <td>Counter-Strike: Global Offensive</td>\n",
              "      <td>913811</td>\n",
              "      <td>960533</td>\n",
              "      <td>0,00</td>\n",
              "      <td>150</td>\n",
              "      <td>0,00</td>\n",
              "      <td>Valve</td>\n",
              "    </tr>\n",
              "    <tr>\n",
              "      <th>1</th>\n",
              "      <td>Dota 2</td>\n",
              "      <td>604434</td>\n",
              "      <td>653296</td>\n",
              "      <td>0,00</td>\n",
              "      <td>150</td>\n",
              "      <td>0,00</td>\n",
              "      <td>Valve</td>\n",
              "    </tr>\n",
              "    <tr>\n",
              "      <th>2</th>\n",
              "      <td>PLAYERUNKNOWN'S BATTLEGROUNDS</td>\n",
              "      <td>227612</td>\n",
              "      <td>376259</td>\n",
              "      <td>75,00</td>\n",
              "      <td>75</td>\n",
              "      <td>5.625.000.000,00</td>\n",
              "      <td>PUBG Corporation</td>\n",
              "    </tr>\n",
              "    <tr>\n",
              "      <th>3</th>\n",
              "      <td>Among Us</td>\n",
              "      <td>134344</td>\n",
              "      <td>314251</td>\n",
              "      <td>10,89</td>\n",
              "      <td>35</td>\n",
              "      <td>381.150.000,00</td>\n",
              "      <td>InnerSloth</td>\n",
              "    </tr>\n",
              "    <tr>\n",
              "      <th>4</th>\n",
              "      <td>Apex Legends</td>\n",
              "      <td>103378</td>\n",
              "      <td>111756</td>\n",
              "      <td>0,00</td>\n",
              "      <td>3,5</td>\n",
              "      <td>0,00</td>\n",
              "      <td>Respawn Entertainment</td>\n",
              "    </tr>\n",
              "  </tbody>\n",
              "</table>\n",
              "</div>"
            ],
            "text/plain": [
              "                               Jogo  ...                Estudio\n",
              "0  Counter-Strike: Global Offensive  ...                  Valve\n",
              "1                            Dota 2  ...                  Valve\n",
              "2     PLAYERUNKNOWN'S BATTLEGROUNDS  ...       PUBG Corporation\n",
              "3                          Among Us  ...             InnerSloth\n",
              "4                      Apex Legends  ...  Respawn Entertainment\n",
              "\n",
              "[5 rows x 7 columns]"
            ]
          },
          "metadata": {
            "tags": []
          },
          "execution_count": 62
        }
      ]
    },
    {
      "cell_type": "markdown",
      "metadata": {
        "id": "3T_FRl8IzbU9"
      },
      "source": [
        "Agora com a média feita vamos organizar a lista com base no pico de jogadores simultâneos (para termos uma ideia melhor da popularidade de cada jogo nesse período de três dias)."
      ]
    },
    {
      "cell_type": "code",
      "metadata": {
        "id": "nLNB025lzawr",
        "outputId": "c43fc599-8e3e-4c1b-8e1d-f7b28b02d144",
        "colab": {
          "base_uri": "https://localhost:8080/",
          "height": 514
        }
      },
      "source": [
        "dfs.sort_values(by=\"Pico\", ascending=False)"
      ],
      "execution_count": null,
      "outputs": [
        {
          "output_type": "execute_result",
          "data": {
            "text/html": [
              "<div>\n",
              "<style scoped>\n",
              "    .dataframe tbody tr th:only-of-type {\n",
              "        vertical-align: middle;\n",
              "    }\n",
              "\n",
              "    .dataframe tbody tr th {\n",
              "        vertical-align: top;\n",
              "    }\n",
              "\n",
              "    .dataframe thead th {\n",
              "        text-align: right;\n",
              "    }\n",
              "</style>\n",
              "<table border=\"1\" class=\"dataframe\">\n",
              "  <thead>\n",
              "    <tr style=\"text-align: right;\">\n",
              "      <th></th>\n",
              "      <th>Jogo</th>\n",
              "      <th>Jogadores Simultaneos</th>\n",
              "      <th>Pico</th>\n",
              "      <th>Preco ()</th>\n",
              "      <th>Estimativa de Vendas (mi)</th>\n",
              "      <th>Renda</th>\n",
              "      <th>Estudio</th>\n",
              "    </tr>\n",
              "  </thead>\n",
              "  <tbody>\n",
              "    <tr>\n",
              "      <th>0</th>\n",
              "      <td>Counter-Strike: Global Offensive</td>\n",
              "      <td>913811</td>\n",
              "      <td>960533</td>\n",
              "      <td>0,00</td>\n",
              "      <td>150</td>\n",
              "      <td>0,00</td>\n",
              "      <td>Valve</td>\n",
              "    </tr>\n",
              "    <tr>\n",
              "      <th>1</th>\n",
              "      <td>Dota 2</td>\n",
              "      <td>604434</td>\n",
              "      <td>653296</td>\n",
              "      <td>0,00</td>\n",
              "      <td>150</td>\n",
              "      <td>0,00</td>\n",
              "      <td>Valve</td>\n",
              "    </tr>\n",
              "    <tr>\n",
              "      <th>2</th>\n",
              "      <td>PLAYERUNKNOWN'S BATTLEGROUNDS</td>\n",
              "      <td>227612</td>\n",
              "      <td>376259</td>\n",
              "      <td>75,00</td>\n",
              "      <td>75</td>\n",
              "      <td>5.625.000.000,00</td>\n",
              "      <td>PUBG Corporation</td>\n",
              "    </tr>\n",
              "    <tr>\n",
              "      <th>3</th>\n",
              "      <td>Among Us</td>\n",
              "      <td>134344</td>\n",
              "      <td>314251</td>\n",
              "      <td>10,89</td>\n",
              "      <td>35</td>\n",
              "      <td>381.150.000,00</td>\n",
              "      <td>InnerSloth</td>\n",
              "    </tr>\n",
              "    <tr>\n",
              "      <th>6</th>\n",
              "      <td>Rocket League</td>\n",
              "      <td>98620</td>\n",
              "      <td>115213</td>\n",
              "      <td>36,99</td>\n",
              "      <td>15</td>\n",
              "      <td>554.850.000,00</td>\n",
              "      <td>Psyonix</td>\n",
              "    </tr>\n",
              "    <tr>\n",
              "      <th>5</th>\n",
              "      <td>Grand Theft Auto V</td>\n",
              "      <td>98075</td>\n",
              "      <td>114977</td>\n",
              "      <td>69,99</td>\n",
              "      <td>35</td>\n",
              "      <td>2.449.650.000,00</td>\n",
              "      <td>Rockstar</td>\n",
              "    </tr>\n",
              "    <tr>\n",
              "      <th>4</th>\n",
              "      <td>Apex Legends</td>\n",
              "      <td>103378</td>\n",
              "      <td>111756</td>\n",
              "      <td>0,00</td>\n",
              "      <td>3,5</td>\n",
              "      <td>0,00</td>\n",
              "      <td>Respawn Entertainment</td>\n",
              "    </tr>\n",
              "    <tr>\n",
              "      <th>9</th>\n",
              "      <td>Team Fortress 2</td>\n",
              "      <td>80827</td>\n",
              "      <td>101230</td>\n",
              "      <td>0,00</td>\n",
              "      <td>75</td>\n",
              "      <td>0,00</td>\n",
              "      <td>Valve</td>\n",
              "    </tr>\n",
              "    <tr>\n",
              "      <th>7</th>\n",
              "      <td>Rust</td>\n",
              "      <td>86171</td>\n",
              "      <td>97867</td>\n",
              "      <td>75,49</td>\n",
              "      <td>15</td>\n",
              "      <td>1.132.350.000,00</td>\n",
              "      <td>Facepunch Studios</td>\n",
              "    </tr>\n",
              "    <tr>\n",
              "      <th>8</th>\n",
              "      <td>ARK: Survival Evolved</td>\n",
              "      <td>80444</td>\n",
              "      <td>89112</td>\n",
              "      <td>93,99</td>\n",
              "      <td>7,5</td>\n",
              "      <td>704.925.000,00</td>\n",
              "      <td>Studio Wildcard</td>\n",
              "    </tr>\n",
              "    <tr>\n",
              "      <th>10</th>\n",
              "      <td>Tom Clancy's Rainbow Six Siege</td>\n",
              "      <td>75317</td>\n",
              "      <td>87171</td>\n",
              "      <td>59,99</td>\n",
              "      <td>35</td>\n",
              "      <td>2.099.650.000,00</td>\n",
              "      <td>Ubisoft</td>\n",
              "    </tr>\n",
              "    <tr>\n",
              "      <th>11</th>\n",
              "      <td>Destiny 2</td>\n",
              "      <td>72295</td>\n",
              "      <td>80459</td>\n",
              "      <td>0,00</td>\n",
              "      <td>15</td>\n",
              "      <td>0,00</td>\n",
              "      <td>Bungie</td>\n",
              "    </tr>\n",
              "    <tr>\n",
              "      <th>12</th>\n",
              "      <td>Football Manager 2020</td>\n",
              "      <td>64424</td>\n",
              "      <td>68764</td>\n",
              "      <td>137,81</td>\n",
              "      <td>3,5</td>\n",
              "      <td>482.335.000,00</td>\n",
              "      <td>Sports Interactive</td>\n",
              "    </tr>\n",
              "    <tr>\n",
              "      <th>13</th>\n",
              "      <td>Warframe</td>\n",
              "      <td>53803</td>\n",
              "      <td>62267</td>\n",
              "      <td>0,00</td>\n",
              "      <td>35</td>\n",
              "      <td>0,00</td>\n",
              "      <td>Digital Extremes</td>\n",
              "    </tr>\n",
              "    <tr>\n",
              "      <th>14</th>\n",
              "      <td>Sid Meier's Civilization VI</td>\n",
              "      <td>47699</td>\n",
              "      <td>52296</td>\n",
              "      <td>129,00</td>\n",
              "      <td>7,5</td>\n",
              "      <td>967.500.000,00</td>\n",
              "      <td>Firaxis Games</td>\n",
              "    </tr>\n",
              "  </tbody>\n",
              "</table>\n",
              "</div>"
            ],
            "text/plain": [
              "                                Jogo  ...                Estudio\n",
              "0   Counter-Strike: Global Offensive  ...                  Valve\n",
              "1                             Dota 2  ...                  Valve\n",
              "2      PLAYERUNKNOWN'S BATTLEGROUNDS  ...       PUBG Corporation\n",
              "3                           Among Us  ...             InnerSloth\n",
              "6                      Rocket League  ...                Psyonix\n",
              "5                 Grand Theft Auto V  ...               Rockstar\n",
              "4                       Apex Legends  ...  Respawn Entertainment\n",
              "9                    Team Fortress 2  ...                  Valve\n",
              "7                               Rust  ...      Facepunch Studios\n",
              "8              ARK: Survival Evolved  ...        Studio Wildcard\n",
              "10    Tom Clancy's Rainbow Six Siege  ...                Ubisoft\n",
              "11                         Destiny 2  ...                 Bungie\n",
              "12             Football Manager 2020  ...     Sports Interactive\n",
              "13                          Warframe  ...       Digital Extremes\n",
              "14       Sid Meier's Civilization VI  ...          Firaxis Games\n",
              "\n",
              "[15 rows x 7 columns]"
            ]
          },
          "metadata": {
            "tags": []
          },
          "execution_count": 25
        }
      ]
    },
    {
      "cell_type": "markdown",
      "metadata": {
        "id": "-vW7c6hY1tyx"
      },
      "source": [
        "Podemos notar que há uma diferença muito grande entre o pico de jogadores do jogo **Counter-Strike** e o resto dos jogos da lista, tornando evidente que, dentre todos os jogos da plataforma, Counter-Strike é incontestávelmente o mais popular!\n",
        "\n",
        "O interessante é que o jogo Counter-Strike conseguiu se manter popular durante muito tempo, dados do SteamDB mostram que o jogo se manteve no top 10 desde 2016!\n",
        "\n",
        "Essa consistência é surpreendente, considerando que a primeira versão do jogo foi lançada em 1999.\n",
        "\n",
        "\n",
        "---\n",
        "\n",
        "Agora vamos analisar quantos jogos são grátis dentre os 15 mais populares.\n",
        "\n",
        "Para isso, ordenaremos a tabela com base no preço (ordem crescente):"
      ]
    },
    {
      "cell_type": "code",
      "metadata": {
        "id": "H78oUKH45eV8",
        "outputId": "28d24282-27fe-4b6b-ae5a-985fd728d49a",
        "colab": {
          "base_uri": "https://localhost:8080/",
          "height": 514
        }
      },
      "source": [
        "dfs.sort_values(by=\"Preco (R$)\")"
      ],
      "execution_count": null,
      "outputs": [
        {
          "output_type": "execute_result",
          "data": {
            "text/html": [
              "<div>\n",
              "<style scoped>\n",
              "    .dataframe tbody tr th:only-of-type {\n",
              "        vertical-align: middle;\n",
              "    }\n",
              "\n",
              "    .dataframe tbody tr th {\n",
              "        vertical-align: top;\n",
              "    }\n",
              "\n",
              "    .dataframe thead th {\n",
              "        text-align: right;\n",
              "    }\n",
              "</style>\n",
              "<table border=\"1\" class=\"dataframe\">\n",
              "  <thead>\n",
              "    <tr style=\"text-align: right;\">\n",
              "      <th></th>\n",
              "      <th>Jogo</th>\n",
              "      <th>Jogadores Simultaneos</th>\n",
              "      <th>Pico</th>\n",
              "      <th>Preco (R$)</th>\n",
              "      <th>Estimativa de Vendas (mi)</th>\n",
              "      <th>Renda</th>\n",
              "      <th>Estudio</th>\n",
              "    </tr>\n",
              "  </thead>\n",
              "  <tbody>\n",
              "    <tr>\n",
              "      <th>0</th>\n",
              "      <td>Counter-Strike: Global Offensive</td>\n",
              "      <td>913811</td>\n",
              "      <td>960533</td>\n",
              "      <td>R$0,00</td>\n",
              "      <td>150</td>\n",
              "      <td>R$0,00</td>\n",
              "      <td>Valve</td>\n",
              "    </tr>\n",
              "    <tr>\n",
              "      <th>1</th>\n",
              "      <td>Dota 2</td>\n",
              "      <td>604434</td>\n",
              "      <td>653296</td>\n",
              "      <td>R$0,00</td>\n",
              "      <td>150</td>\n",
              "      <td>R$0,00</td>\n",
              "      <td>Valve</td>\n",
              "    </tr>\n",
              "    <tr>\n",
              "      <th>4</th>\n",
              "      <td>Apex Legends</td>\n",
              "      <td>103378</td>\n",
              "      <td>111756</td>\n",
              "      <td>R$0,00</td>\n",
              "      <td>3,5</td>\n",
              "      <td>R$0,00</td>\n",
              "      <td>Respawn Entertainment</td>\n",
              "    </tr>\n",
              "    <tr>\n",
              "      <th>9</th>\n",
              "      <td>Team Fortress 2</td>\n",
              "      <td>80827</td>\n",
              "      <td>101230</td>\n",
              "      <td>R$0,00</td>\n",
              "      <td>75</td>\n",
              "      <td>R$0,00</td>\n",
              "      <td>Valve</td>\n",
              "    </tr>\n",
              "    <tr>\n",
              "      <th>11</th>\n",
              "      <td>Destiny 2</td>\n",
              "      <td>72295</td>\n",
              "      <td>80459</td>\n",
              "      <td>R$0,00</td>\n",
              "      <td>15</td>\n",
              "      <td>R$0,00</td>\n",
              "      <td>Bungie</td>\n",
              "    </tr>\n",
              "    <tr>\n",
              "      <th>13</th>\n",
              "      <td>Warframe</td>\n",
              "      <td>53803</td>\n",
              "      <td>62267</td>\n",
              "      <td>R$0,00</td>\n",
              "      <td>35</td>\n",
              "      <td>R$0,00</td>\n",
              "      <td>Digital Extremes</td>\n",
              "    </tr>\n",
              "    <tr>\n",
              "      <th>3</th>\n",
              "      <td>Among Us</td>\n",
              "      <td>134344</td>\n",
              "      <td>314251</td>\n",
              "      <td>R$10,89</td>\n",
              "      <td>35</td>\n",
              "      <td>R$381.150.000,00</td>\n",
              "      <td>InnerSloth</td>\n",
              "    </tr>\n",
              "    <tr>\n",
              "      <th>14</th>\n",
              "      <td>Sid Meier's Civilization VI</td>\n",
              "      <td>47699</td>\n",
              "      <td>52296</td>\n",
              "      <td>R$129,00</td>\n",
              "      <td>7,5</td>\n",
              "      <td>R$967.500.000,00</td>\n",
              "      <td>Firaxis Games</td>\n",
              "    </tr>\n",
              "    <tr>\n",
              "      <th>12</th>\n",
              "      <td>Football Manager 2020</td>\n",
              "      <td>64424</td>\n",
              "      <td>68764</td>\n",
              "      <td>R$137,81</td>\n",
              "      <td>3,5</td>\n",
              "      <td>R$482.335.000,00</td>\n",
              "      <td>Sports Interactive</td>\n",
              "    </tr>\n",
              "    <tr>\n",
              "      <th>6</th>\n",
              "      <td>Rocket League</td>\n",
              "      <td>98620</td>\n",
              "      <td>115213</td>\n",
              "      <td>R$36,99</td>\n",
              "      <td>15</td>\n",
              "      <td>R$554.850.000,00</td>\n",
              "      <td>Psyonix</td>\n",
              "    </tr>\n",
              "    <tr>\n",
              "      <th>10</th>\n",
              "      <td>Tom Clancy's Rainbow Six Siege</td>\n",
              "      <td>75317</td>\n",
              "      <td>87171</td>\n",
              "      <td>R$59,99</td>\n",
              "      <td>35</td>\n",
              "      <td>R$2.099.650.000,00</td>\n",
              "      <td>Ubisoft</td>\n",
              "    </tr>\n",
              "    <tr>\n",
              "      <th>5</th>\n",
              "      <td>Grand Theft Auto V</td>\n",
              "      <td>98075</td>\n",
              "      <td>114977</td>\n",
              "      <td>R$69,99</td>\n",
              "      <td>35</td>\n",
              "      <td>R$2.449.650.000,00</td>\n",
              "      <td>Rockstar</td>\n",
              "    </tr>\n",
              "    <tr>\n",
              "      <th>2</th>\n",
              "      <td>PLAYERUNKNOWN'S BATTLEGROUNDS</td>\n",
              "      <td>227612</td>\n",
              "      <td>376259</td>\n",
              "      <td>R$75,00</td>\n",
              "      <td>75</td>\n",
              "      <td>R$5.625.000.000,00</td>\n",
              "      <td>PUBG Corporation</td>\n",
              "    </tr>\n",
              "    <tr>\n",
              "      <th>7</th>\n",
              "      <td>Rust</td>\n",
              "      <td>86171</td>\n",
              "      <td>97867</td>\n",
              "      <td>R$75,49</td>\n",
              "      <td>15</td>\n",
              "      <td>R$1.132.350.000,00</td>\n",
              "      <td>Facepunch Studios</td>\n",
              "    </tr>\n",
              "    <tr>\n",
              "      <th>8</th>\n",
              "      <td>ARK: Survival Evolved</td>\n",
              "      <td>80444</td>\n",
              "      <td>89112</td>\n",
              "      <td>R$93,99</td>\n",
              "      <td>7,5</td>\n",
              "      <td>R$704.925.000,00</td>\n",
              "      <td>Studio Wildcard</td>\n",
              "    </tr>\n",
              "  </tbody>\n",
              "</table>\n",
              "</div>"
            ],
            "text/plain": [
              "                                Jogo  ...                Estudio\n",
              "0   Counter-Strike: Global Offensive  ...                  Valve\n",
              "1                             Dota 2  ...                  Valve\n",
              "4                       Apex Legends  ...  Respawn Entertainment\n",
              "9                    Team Fortress 2  ...                  Valve\n",
              "11                         Destiny 2  ...                 Bungie\n",
              "13                          Warframe  ...       Digital Extremes\n",
              "3                           Among Us  ...             InnerSloth\n",
              "14       Sid Meier's Civilization VI  ...          Firaxis Games\n",
              "12             Football Manager 2020  ...     Sports Interactive\n",
              "6                      Rocket League  ...                Psyonix\n",
              "10    Tom Clancy's Rainbow Six Siege  ...                Ubisoft\n",
              "5                 Grand Theft Auto V  ...               Rockstar\n",
              "2      PLAYERUNKNOWN'S BATTLEGROUNDS  ...       PUBG Corporation\n",
              "7                               Rust  ...      Facepunch Studios\n",
              "8              ARK: Survival Evolved  ...        Studio Wildcard\n",
              "\n",
              "[15 rows x 7 columns]"
            ]
          },
          "metadata": {
            "tags": []
          },
          "execution_count": 52
        }
      ]
    },
    {
      "cell_type": "markdown",
      "metadata": {
        "id": "49qfF74b5-xU"
      },
      "source": [
        "Dentre os top 15 da plataforma, mais de um terço (6) dos jogos são grátis! Isso mostra que a falta de arrecadação por vendas compensa na popularidade do jogo em questão. Vale ressaltar que os jogos grátis não têm a renda nula, o valor da tabela é baseado *somente* no preço de venda multiplicado pela estimativa de vendas.\n",
        "\n",
        "Isso é evidente no caso do jogo Counter-Strike mencionado anteriormente, que mesmo sendo grátis (era um jogo pago até dezembro de 2018) continua arrecadando milhões por ano. Afinal, o último campeonato de 2019 teve uma premiação total equivalente a 4,5 milhões de dólares, mais que o dobro da arrecadação por vendas do décimo primeiro colocado (Tom Clancy's Rainbow Six Siege).\n",
        "\n",
        "\n",
        "---\n",
        "\n",
        "Dentre o top 15, qual empresa é a mais predominante? Para responder essa pergunta, vamos usar o comando sort_values novamente, usando a coluna Estúdio como referência."
      ]
    },
    {
      "cell_type": "code",
      "metadata": {
        "id": "IOvY94wBrcq3",
        "outputId": "fd28625e-56d3-48c5-b590-a3533f9ed9e3",
        "colab": {
          "base_uri": "https://localhost:8080/",
          "height": 514
        }
      },
      "source": [
        "dfs.sort_values(by=\"Estudio\")"
      ],
      "execution_count": null,
      "outputs": [
        {
          "output_type": "execute_result",
          "data": {
            "text/html": [
              "<div>\n",
              "<style scoped>\n",
              "    .dataframe tbody tr th:only-of-type {\n",
              "        vertical-align: middle;\n",
              "    }\n",
              "\n",
              "    .dataframe tbody tr th {\n",
              "        vertical-align: top;\n",
              "    }\n",
              "\n",
              "    .dataframe thead th {\n",
              "        text-align: right;\n",
              "    }\n",
              "</style>\n",
              "<table border=\"1\" class=\"dataframe\">\n",
              "  <thead>\n",
              "    <tr style=\"text-align: right;\">\n",
              "      <th></th>\n",
              "      <th>Jogo</th>\n",
              "      <th>Jogadores Simultaneos</th>\n",
              "      <th>Pico</th>\n",
              "      <th>Preco (R$)</th>\n",
              "      <th>Estimativa de Vendas (mi)</th>\n",
              "      <th>Renda</th>\n",
              "      <th>Estudio</th>\n",
              "    </tr>\n",
              "  </thead>\n",
              "  <tbody>\n",
              "    <tr>\n",
              "      <th>11</th>\n",
              "      <td>Destiny 2</td>\n",
              "      <td>72295</td>\n",
              "      <td>80459</td>\n",
              "      <td>R$0,00</td>\n",
              "      <td>15</td>\n",
              "      <td>R$0,00</td>\n",
              "      <td>Bungie</td>\n",
              "    </tr>\n",
              "    <tr>\n",
              "      <th>13</th>\n",
              "      <td>Warframe</td>\n",
              "      <td>53803</td>\n",
              "      <td>62267</td>\n",
              "      <td>R$0,00</td>\n",
              "      <td>35</td>\n",
              "      <td>R$0,00</td>\n",
              "      <td>Digital Extremes</td>\n",
              "    </tr>\n",
              "    <tr>\n",
              "      <th>7</th>\n",
              "      <td>Rust</td>\n",
              "      <td>86171</td>\n",
              "      <td>97867</td>\n",
              "      <td>R$75,49</td>\n",
              "      <td>15</td>\n",
              "      <td>R$1.132.350.000,00</td>\n",
              "      <td>Facepunch Studios</td>\n",
              "    </tr>\n",
              "    <tr>\n",
              "      <th>14</th>\n",
              "      <td>Sid Meier's Civilization VI</td>\n",
              "      <td>47699</td>\n",
              "      <td>52296</td>\n",
              "      <td>R$129,00</td>\n",
              "      <td>7,5</td>\n",
              "      <td>R$967.500.000,00</td>\n",
              "      <td>Firaxis Games</td>\n",
              "    </tr>\n",
              "    <tr>\n",
              "      <th>3</th>\n",
              "      <td>Among Us</td>\n",
              "      <td>134344</td>\n",
              "      <td>314251</td>\n",
              "      <td>R$10,89</td>\n",
              "      <td>35</td>\n",
              "      <td>R$381.150.000,00</td>\n",
              "      <td>InnerSloth</td>\n",
              "    </tr>\n",
              "    <tr>\n",
              "      <th>2</th>\n",
              "      <td>PLAYERUNKNOWN'S BATTLEGROUNDS</td>\n",
              "      <td>227612</td>\n",
              "      <td>376259</td>\n",
              "      <td>R$75,00</td>\n",
              "      <td>75</td>\n",
              "      <td>R$5.625.000.000,00</td>\n",
              "      <td>PUBG Corporation</td>\n",
              "    </tr>\n",
              "    <tr>\n",
              "      <th>6</th>\n",
              "      <td>Rocket League</td>\n",
              "      <td>98620</td>\n",
              "      <td>115213</td>\n",
              "      <td>R$36,99</td>\n",
              "      <td>15</td>\n",
              "      <td>R$554.850.000,00</td>\n",
              "      <td>Psyonix</td>\n",
              "    </tr>\n",
              "    <tr>\n",
              "      <th>4</th>\n",
              "      <td>Apex Legends</td>\n",
              "      <td>103378</td>\n",
              "      <td>111756</td>\n",
              "      <td>R$0,00</td>\n",
              "      <td>3,5</td>\n",
              "      <td>R$0,00</td>\n",
              "      <td>Respawn Entertainment</td>\n",
              "    </tr>\n",
              "    <tr>\n",
              "      <th>5</th>\n",
              "      <td>Grand Theft Auto V</td>\n",
              "      <td>98075</td>\n",
              "      <td>114977</td>\n",
              "      <td>R$69,99</td>\n",
              "      <td>35</td>\n",
              "      <td>R$2.449.650.000,00</td>\n",
              "      <td>Rockstar</td>\n",
              "    </tr>\n",
              "    <tr>\n",
              "      <th>12</th>\n",
              "      <td>Football Manager 2020</td>\n",
              "      <td>64424</td>\n",
              "      <td>68764</td>\n",
              "      <td>R$137,81</td>\n",
              "      <td>3,5</td>\n",
              "      <td>R$482.335.000,00</td>\n",
              "      <td>Sports Interactive</td>\n",
              "    </tr>\n",
              "    <tr>\n",
              "      <th>8</th>\n",
              "      <td>ARK: Survival Evolved</td>\n",
              "      <td>80444</td>\n",
              "      <td>89112</td>\n",
              "      <td>R$93,99</td>\n",
              "      <td>7,5</td>\n",
              "      <td>R$704.925.000,00</td>\n",
              "      <td>Studio Wildcard</td>\n",
              "    </tr>\n",
              "    <tr>\n",
              "      <th>10</th>\n",
              "      <td>Tom Clancy's Rainbow Six Siege</td>\n",
              "      <td>75317</td>\n",
              "      <td>87171</td>\n",
              "      <td>R$59,99</td>\n",
              "      <td>35</td>\n",
              "      <td>R$2.099.650.000,00</td>\n",
              "      <td>Ubisoft</td>\n",
              "    </tr>\n",
              "    <tr>\n",
              "      <th>0</th>\n",
              "      <td>Counter-Strike: Global Offensive</td>\n",
              "      <td>913811</td>\n",
              "      <td>960533</td>\n",
              "      <td>R$0,00</td>\n",
              "      <td>150</td>\n",
              "      <td>R$0,00</td>\n",
              "      <td>Valve</td>\n",
              "    </tr>\n",
              "    <tr>\n",
              "      <th>1</th>\n",
              "      <td>Dota 2</td>\n",
              "      <td>604434</td>\n",
              "      <td>653296</td>\n",
              "      <td>R$0,00</td>\n",
              "      <td>150</td>\n",
              "      <td>R$0,00</td>\n",
              "      <td>Valve</td>\n",
              "    </tr>\n",
              "    <tr>\n",
              "      <th>9</th>\n",
              "      <td>Team Fortress 2</td>\n",
              "      <td>80827</td>\n",
              "      <td>101230</td>\n",
              "      <td>R$0,00</td>\n",
              "      <td>75</td>\n",
              "      <td>R$0,00</td>\n",
              "      <td>Valve</td>\n",
              "    </tr>\n",
              "  </tbody>\n",
              "</table>\n",
              "</div>"
            ],
            "text/plain": [
              "                                Jogo  ...                Estudio\n",
              "11                         Destiny 2  ...                 Bungie\n",
              "13                          Warframe  ...       Digital Extremes\n",
              "7                               Rust  ...      Facepunch Studios\n",
              "14       Sid Meier's Civilization VI  ...          Firaxis Games\n",
              "3                           Among Us  ...             InnerSloth\n",
              "2      PLAYERUNKNOWN'S BATTLEGROUNDS  ...       PUBG Corporation\n",
              "6                      Rocket League  ...                Psyonix\n",
              "4                       Apex Legends  ...  Respawn Entertainment\n",
              "5                 Grand Theft Auto V  ...               Rockstar\n",
              "12             Football Manager 2020  ...     Sports Interactive\n",
              "8              ARK: Survival Evolved  ...        Studio Wildcard\n",
              "10    Tom Clancy's Rainbow Six Siege  ...                Ubisoft\n",
              "0   Counter-Strike: Global Offensive  ...                  Valve\n",
              "1                             Dota 2  ...                  Valve\n",
              "9                    Team Fortress 2  ...                  Valve\n",
              "\n",
              "[15 rows x 7 columns]"
            ]
          },
          "metadata": {
            "tags": []
          },
          "execution_count": 53
        }
      ]
    },
    {
      "cell_type": "markdown",
      "metadata": {
        "id": "yXhe_EtsCI_e"
      },
      "source": [
        "Observamos pela tabela acima que a empresa Valve (que por sinal é a empresa responsável pela Steam) detém três lugares no top 15 de sua plataforma, todos eles gratuitos para jogar.\n",
        "\n",
        "Isso é um fato surpreendente considerando que esses mesmos três jogos são os mais antigos dentre todos os da lista!\n",
        "\n",
        "\n",
        "---\n",
        "\n",
        "Quantas pessoas estavam jogando (em média) nos três dias? Podemos responder isso facilmente usando o comando **sum** (utilizaremos como base novamente a coluna \"Pico\")"
      ]
    },
    {
      "cell_type": "code",
      "metadata": {
        "id": "Qxj9j82fDfxn",
        "outputId": "7bd7956a-7226-4669-e443-fc81256e6d7e",
        "colab": {
          "base_uri": "https://localhost:8080/"
        }
      },
      "source": [
        "dfs[\"Pico\"].sum()"
      ],
      "execution_count": null,
      "outputs": [
        {
          "output_type": "execute_result",
          "data": {
            "text/plain": [
              "3285451"
            ]
          },
          "metadata": {
            "tags": []
          },
          "execution_count": 63
        }
      ]
    },
    {
      "cell_type": "markdown",
      "metadata": {
        "id": "phSFv5solb0t"
      },
      "source": [
        "Aproximadamente 3,3 milhões de jogadores!\n",
        "\n",
        "Para finalizar, vamos analisar qual é a renda total de vendas dos top 15 utilizando novamente o comando sum (transformamos em valor int pois não há nenhum número com valores decimais)"
      ]
    },
    {
      "cell_type": "code",
      "metadata": {
        "id": "eBSZ7N88nPB2",
        "outputId": "1b2ed8a4-fc00-44f0-cf4b-7964b5d9cd76",
        "colab": {
          "base_uri": "https://localhost:8080/"
        }
      },
      "source": [
        "dfsr = dfs[\"Renda\"].apply(lambda x: x.replace('.', '')).apply(lambda x: x.replace(',00', ''))\n",
        "dfsr2 = pd.to_numeric(dfsr)\n",
        "dfsr2.sum()"
      ],
      "execution_count": null,
      "outputs": [
        {
          "output_type": "execute_result",
          "data": {
            "text/plain": [
              "14397410000"
            ]
          },
          "metadata": {
            "tags": []
          },
          "execution_count": 54
        }
      ]
    },
    {
      "cell_type": "markdown",
      "metadata": {
        "id": "2Nh2u3SpAZwa"
      },
      "source": [
        "Com isso notamos que os 15 jogos mais populares da Steam já arrecadaram 14,3 milhões de reais! (sem contar a renda real dos jogos gratuitos, que é bem expressiva como vimos anteriormente)."
      ]
    },
    {
      "cell_type": "markdown",
      "metadata": {
        "id": "Fon3Ae113iAM"
      },
      "source": [
        "# **Análise Tabelas em conjunto**\n",
        "\n"
      ]
    },
    {
      "cell_type": "markdown",
      "metadata": {
        "id": "R7aTkPhBiEVm"
      },
      "source": [
        "Primeiro como a plataforma de distruibuição de games Steam tem a restrição de jogos que são suportados/lançados por ela e, a Twitch sendo praticamente universal em questões de jogos, temos que fazer uma comparação entre os jogos que conincidem nas duas."
      ]
    },
    {
      "cell_type": "markdown",
      "metadata": {
        "id": "e_tPxn8xjCUT"
      },
      "source": [
        "Primeiro vamos efetuar alguma etapas:\n",
        "\n",
        "\n",
        "*   Vamos criar um novo DataFrame; \n",
        "*   Fazer uma comparação entre as linhas das duas tabelas (Steam e Twitch) buscando as quais os jogos são iguais;\n",
        "*   Quando a condição acima for verdadeira o código adicionará uma linha na nova tabela contendo todas as informações do game das duas tabela.\n",
        "\n",
        "\n",
        "\n"
      ]
    },
    {
      "cell_type": "code",
      "metadata": {
        "id": "khDFFUfl3lTI",
        "outputId": "9ee2d321-f143-4967-af76-bd3496d3d6ff",
        "colab": {
          "base_uri": "https://localhost:8080/",
          "height": 297
        }
      },
      "source": [
        "index=dfs.index.argmax()+1\n",
        "#print(index)\n",
        "index2=dfTwitch.index.argmax()+1\n",
        "#print(index2)\n",
        "#dfs.loc[0, 'Jogo']\n",
        "index3=0\n",
        "\n",
        "dfTeste = pd.DataFrame(columns=['Jogo','Jogadores Simultaneos',\t'Pico',\t'Preco (R$)',\t\n",
        "                                'Estimativa de Vendas (mi)',\t'Renda'\t,'MaisAssistido',\n",
        "                                'PicoViewers',\t'MaisTransmitidos',\t'Estudio',\t'MaisPopulares'])\n",
        "for x in range (index):\n",
        "  for y in range (index2):\n",
        "    if dfs.loc[x, 'Jogo'] == dfTwitch.loc[y, 'Jogo']:\n",
        "      #print(x,y)\n",
        "      \n",
        "      dfTeste.loc[index3] = [dfs.loc[x, 'Jogo'],dfs.loc[x, 'Jogadores Simultaneos'],dfs.loc[x, 'Pico'],dfs.loc[x, 'Preco (R$)'],\n",
        "                             dfs.loc[x, 'Estimativa de Vendas (mi)'],dfs.loc[x, 'Renda'],dfTwitch.loc[y, 'MaisAssistido'],dfTwitch.loc[y, 'PicoViewers'],\n",
        "                             dfTwitch.loc[y, 'MaisTransmitidos'],dfTwitch.loc[y, 'Estudio'],dfTwitch.loc[y, 'MaisPopulares']] \n",
        "      #dfTeste\n",
        "      index3 +=1\n",
        "      \n",
        "    else:\n",
        "      continue\n",
        "\n",
        "dfTeste"
      ],
      "execution_count": null,
      "outputs": [
        {
          "output_type": "execute_result",
          "data": {
            "text/html": [
              "<div>\n",
              "<style scoped>\n",
              "    .dataframe tbody tr th:only-of-type {\n",
              "        vertical-align: middle;\n",
              "    }\n",
              "\n",
              "    .dataframe tbody tr th {\n",
              "        vertical-align: top;\n",
              "    }\n",
              "\n",
              "    .dataframe thead th {\n",
              "        text-align: right;\n",
              "    }\n",
              "</style>\n",
              "<table border=\"1\" class=\"dataframe\">\n",
              "  <thead>\n",
              "    <tr style=\"text-align: right;\">\n",
              "      <th></th>\n",
              "      <th>Jogo</th>\n",
              "      <th>Jogadores Simultaneos</th>\n",
              "      <th>Pico</th>\n",
              "      <th>Preco (R$)</th>\n",
              "      <th>Estimativa de Vendas (mi)</th>\n",
              "      <th>Renda</th>\n",
              "      <th>MaisAssistido</th>\n",
              "      <th>PicoViewers</th>\n",
              "      <th>MaisTransmitidos</th>\n",
              "      <th>Estudio</th>\n",
              "      <th>MaisPopulares</th>\n",
              "    </tr>\n",
              "  </thead>\n",
              "  <tbody>\n",
              "    <tr>\n",
              "      <th>0</th>\n",
              "      <td>Counter-Strike: Global Offensive</td>\n",
              "      <td>913811</td>\n",
              "      <td>960533</td>\n",
              "      <td>R$0,00</td>\n",
              "      <td>150</td>\n",
              "      <td>R$0,00</td>\n",
              "      <td>57483595</td>\n",
              "      <td>546239</td>\n",
              "      <td>197</td>\n",
              "      <td>Valve Corporation</td>\n",
              "      <td>79179</td>\n",
              "    </tr>\n",
              "    <tr>\n",
              "      <th>1</th>\n",
              "      <td>Dota 2</td>\n",
              "      <td>604434</td>\n",
              "      <td>653296</td>\n",
              "      <td>R$0,00</td>\n",
              "      <td>150</td>\n",
              "      <td>R$0,00</td>\n",
              "      <td>33630887</td>\n",
              "      <td>220742</td>\n",
              "      <td>127</td>\n",
              "      <td>Valve Corporation</td>\n",
              "      <td>46324</td>\n",
              "    </tr>\n",
              "    <tr>\n",
              "      <th>2</th>\n",
              "      <td>PLAYERUNKNOWN'S BATTLEGROUNDS</td>\n",
              "      <td>227612</td>\n",
              "      <td>376259</td>\n",
              "      <td>R$75,00</td>\n",
              "      <td>75</td>\n",
              "      <td>R$5.625.000.000,00</td>\n",
              "      <td>10709565</td>\n",
              "      <td>67710</td>\n",
              "      <td>114</td>\n",
              "      <td>PUBG Corporation</td>\n",
              "      <td>14751</td>\n",
              "    </tr>\n",
              "    <tr>\n",
              "      <th>3</th>\n",
              "      <td>Among Us</td>\n",
              "      <td>134344</td>\n",
              "      <td>314251</td>\n",
              "      <td>R$10,89</td>\n",
              "      <td>35</td>\n",
              "      <td>R$381.150.000,00</td>\n",
              "      <td>99539302</td>\n",
              "      <td>762073</td>\n",
              "      <td>455</td>\n",
              "      <td>InnerSloth</td>\n",
              "      <td>137106</td>\n",
              "    </tr>\n",
              "    <tr>\n",
              "      <th>4</th>\n",
              "      <td>Apex Legends</td>\n",
              "      <td>103378</td>\n",
              "      <td>111756</td>\n",
              "      <td>R$0,00</td>\n",
              "      <td>3,5</td>\n",
              "      <td>R$0,00</td>\n",
              "      <td>28891525</td>\n",
              "      <td>253064</td>\n",
              "      <td>290</td>\n",
              "      <td>EA</td>\n",
              "      <td>39795</td>\n",
              "    </tr>\n",
              "    <tr>\n",
              "      <th>5</th>\n",
              "      <td>Grand Theft Auto V</td>\n",
              "      <td>98075</td>\n",
              "      <td>114977</td>\n",
              "      <td>R$69,99</td>\n",
              "      <td>35</td>\n",
              "      <td>R$2.449.650.000,00</td>\n",
              "      <td>49955024</td>\n",
              "      <td>197852</td>\n",
              "      <td>369</td>\n",
              "      <td>Rockstar Games</td>\n",
              "      <td>68809</td>\n",
              "    </tr>\n",
              "    <tr>\n",
              "      <th>6</th>\n",
              "      <td>Rocket League</td>\n",
              "      <td>98620</td>\n",
              "      <td>115213</td>\n",
              "      <td>R$36,99</td>\n",
              "      <td>15</td>\n",
              "      <td>R$554.850.000,00</td>\n",
              "      <td>16523320</td>\n",
              "      <td>238352</td>\n",
              "      <td>143</td>\n",
              "      <td>Psyonix</td>\n",
              "      <td>22759</td>\n",
              "    </tr>\n",
              "    <tr>\n",
              "      <th>7</th>\n",
              "      <td>Tom Clancy's Rainbow Six Siege</td>\n",
              "      <td>75317</td>\n",
              "      <td>87171</td>\n",
              "      <td>R$59,99</td>\n",
              "      <td>35</td>\n",
              "      <td>R$2.099.650.000,00</td>\n",
              "      <td>9064111</td>\n",
              "      <td>70343</td>\n",
              "      <td>107</td>\n",
              "      <td>Ubisoft</td>\n",
              "      <td>12485</td>\n",
              "    </tr>\n",
              "  </tbody>\n",
              "</table>\n",
              "</div>"
            ],
            "text/plain": [
              "                               Jogo  ... MaisPopulares\n",
              "0  Counter-Strike: Global Offensive  ...         79179\n",
              "1                            Dota 2  ...         46324\n",
              "2     PLAYERUNKNOWN'S BATTLEGROUNDS  ...         14751\n",
              "3                          Among Us  ...        137106\n",
              "4                      Apex Legends  ...         39795\n",
              "5                Grand Theft Auto V  ...         68809\n",
              "6                     Rocket League  ...         22759\n",
              "7    Tom Clancy's Rainbow Six Siege  ...         12485\n",
              "\n",
              "[8 rows x 11 columns]"
            ]
          },
          "metadata": {
            "tags": []
          },
          "execution_count": 29
        }
      ]
    },
    {
      "cell_type": "markdown",
      "metadata": {
        "id": "r30m0t6nkEH2"
      },
      "source": [
        "Com essas informações podemos perceber que mais da metade dos jogos mais populares da Steam, estão em alta na plataforma de streaming. Então é um fato que a popularidade do jogo influência nos número atingidos pelas lives."
      ]
    },
    {
      "cell_type": "code",
      "metadata": {
        "id": "wcXAptaspEL6",
        "outputId": "ae890f82-3d50-4bc9-8c5a-9da03b52103d",
        "colab": {
          "base_uri": "https://localhost:8080/",
          "height": 514
        }
      },
      "source": [
        "dfTwitch[['Jogo','PicoViewers','MaisTransmitidos']].sort_values(by='PicoViewers', ascending=False).head(15)"
      ],
      "execution_count": null,
      "outputs": [
        {
          "output_type": "execute_result",
          "data": {
            "text/html": [
              "<div>\n",
              "<style scoped>\n",
              "    .dataframe tbody tr th:only-of-type {\n",
              "        vertical-align: middle;\n",
              "    }\n",
              "\n",
              "    .dataframe tbody tr th {\n",
              "        vertical-align: top;\n",
              "    }\n",
              "\n",
              "    .dataframe thead th {\n",
              "        text-align: right;\n",
              "    }\n",
              "</style>\n",
              "<table border=\"1\" class=\"dataframe\">\n",
              "  <thead>\n",
              "    <tr style=\"text-align: right;\">\n",
              "      <th></th>\n",
              "      <th>Jogo</th>\n",
              "      <th>PicoViewers</th>\n",
              "      <th>MaisTransmitidos</th>\n",
              "    </tr>\n",
              "  </thead>\n",
              "  <tbody>\n",
              "    <tr>\n",
              "      <th>0</th>\n",
              "      <td>League of Legends</td>\n",
              "      <td>1999606</td>\n",
              "      <td>555</td>\n",
              "    </tr>\n",
              "    <tr>\n",
              "      <th>1</th>\n",
              "      <td>Among Us</td>\n",
              "      <td>762073</td>\n",
              "      <td>455</td>\n",
              "    </tr>\n",
              "    <tr>\n",
              "      <th>4</th>\n",
              "      <td>Counter-Strike: Global Offensive</td>\n",
              "      <td>546239</td>\n",
              "      <td>197</td>\n",
              "    </tr>\n",
              "    <tr>\n",
              "      <th>6</th>\n",
              "      <td>FIFA 21</td>\n",
              "      <td>469155</td>\n",
              "      <td>216</td>\n",
              "    </tr>\n",
              "    <tr>\n",
              "      <th>5</th>\n",
              "      <td>Minecraft</td>\n",
              "      <td>458576</td>\n",
              "      <td>279</td>\n",
              "    </tr>\n",
              "    <tr>\n",
              "      <th>2</th>\n",
              "      <td>Fortnite</td>\n",
              "      <td>458562</td>\n",
              "      <td>539</td>\n",
              "    </tr>\n",
              "    <tr>\n",
              "      <th>3</th>\n",
              "      <td>Call Of Duty: Modern Warfare</td>\n",
              "      <td>377775</td>\n",
              "      <td>491</td>\n",
              "    </tr>\n",
              "    <tr>\n",
              "      <th>27</th>\n",
              "      <td>NBA 2K21</td>\n",
              "      <td>316820</td>\n",
              "      <td>67</td>\n",
              "    </tr>\n",
              "    <tr>\n",
              "      <th>25</th>\n",
              "      <td>Watch Dogs: Legion</td>\n",
              "      <td>316820</td>\n",
              "      <td>61</td>\n",
              "    </tr>\n",
              "    <tr>\n",
              "      <th>30</th>\n",
              "      <td>The Dark Pictures Anthology: Little Hope</td>\n",
              "      <td>307174</td>\n",
              "      <td>76</td>\n",
              "    </tr>\n",
              "    <tr>\n",
              "      <th>31</th>\n",
              "      <td>Cyberpunk 2077</td>\n",
              "      <td>286764</td>\n",
              "      <td>2</td>\n",
              "    </tr>\n",
              "    <tr>\n",
              "      <th>29</th>\n",
              "      <td>Call of Duty: Black Ops Cold War</td>\n",
              "      <td>282400</td>\n",
              "      <td>68</td>\n",
              "    </tr>\n",
              "    <tr>\n",
              "      <th>12</th>\n",
              "      <td>Apex Legends</td>\n",
              "      <td>253064</td>\n",
              "      <td>290</td>\n",
              "    </tr>\n",
              "    <tr>\n",
              "      <th>16</th>\n",
              "      <td>Rocket League</td>\n",
              "      <td>238352</td>\n",
              "      <td>143</td>\n",
              "    </tr>\n",
              "    <tr>\n",
              "      <th>9</th>\n",
              "      <td>Dota 2</td>\n",
              "      <td>220742</td>\n",
              "      <td>127</td>\n",
              "    </tr>\n",
              "  </tbody>\n",
              "</table>\n",
              "</div>"
            ],
            "text/plain": [
              "                                        Jogo  PicoViewers  MaisTransmitidos\n",
              "0                          League of Legends      1999606               555\n",
              "1                                   Among Us       762073               455\n",
              "4           Counter-Strike: Global Offensive       546239               197\n",
              "6                                    FIFA 21       469155               216\n",
              "5                                  Minecraft       458576               279\n",
              "2                                   Fortnite       458562               539\n",
              "3               Call Of Duty: Modern Warfare       377775               491\n",
              "27                                  NBA 2K21       316820                67\n",
              "25                        Watch Dogs: Legion       316820                61\n",
              "30  The Dark Pictures Anthology: Little Hope       307174                76\n",
              "31                            Cyberpunk 2077       286764                 2\n",
              "29          Call of Duty: Black Ops Cold War       282400                68\n",
              "12                              Apex Legends       253064               290\n",
              "16                             Rocket League       238352               143\n",
              "9                                     Dota 2       220742               127"
            ]
          },
          "metadata": {
            "tags": []
          },
          "execution_count": 30
        }
      ]
    },
    {
      "cell_type": "markdown",
      "metadata": {
        "id": "dr3GpoPznTUL"
      },
      "source": [
        "Com as tabelas comparadas se poder perceber também que a Twitch é bem mais instável, a popularidade é um fator importante para seus grandes números, fato perceptível analisando os picos de viewers de jogos que se mantém constantemente no alto com seus número médios de streamers, e jogos com médias de lives menores alcançando esses valores.\n",
        "\n"
      ]
    }
  ]
}